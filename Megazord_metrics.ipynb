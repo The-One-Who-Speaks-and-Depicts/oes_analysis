{
  "nbformat": 4,
  "nbformat_minor": 0,
  "metadata": {
    "colab": {
      "name": "Megazord_metrics.ipynb",
      "provenance": [],
      "authorship_tag": "ABX9TyPANdbCuXFYVERI8xiKG0Xm"
    },
    "kernelspec": {
      "name": "python3",
      "display_name": "Python 3"
    },
    "language_info": {
      "name": "python"
    }
  },
  "cells": [
    {
      "cell_type": "code",
      "metadata": {
        "id": "mkGaKF0KaBC-"
      },
      "source": [
        "import numpy as np\n",
        "import seaborn as sns\n",
        "import pandas as pd\n",
        "from scipy.stats import iqr"
      ],
      "execution_count": null,
      "outputs": []
    },
    {
      "cell_type": "code",
      "metadata": {
        "id": "xsrX2lmCig-0"
      },
      "source": [
        "def normalized_dist_rank(rank, len_1, len_2):\n",
        "  bigger_len = len_1 if len_1 >= len_2 else len_2\n",
        "  smaller_len = len_2 if len_1 >= len_2 else len_1\n",
        "  max_rank = 2 * sum([i for i in range(bigger_len - smaller_len + 1, bigger_len - 1, 2)])\n",
        "  return rank/max_rank"
      ],
      "execution_count": null,
      "outputs": []
    },
    {
      "cell_type": "code",
      "metadata": {
        "id": "BfVZhLXWUO-Y"
      },
      "source": [
        "def dameraulevenshtein(s1, s2):\n",
        "    d = {}\n",
        "    lenstr1 = len(s1)\n",
        "    lenstr2 = len(s2)\n",
        "    for i in range(-1,lenstr1+1):\n",
        "        d[(i,-1)] = i+1\n",
        "    for j in range(-1,lenstr2+1):\n",
        "        d[(-1,j)] = j+1\n",
        "\n",
        "    for i in range(lenstr1):\n",
        "        for j in range(lenstr2):\n",
        "            if s1[i] == s2[j]:\n",
        "                cost = 0\n",
        "            else:\n",
        "                cost = 1\n",
        "            d[(i,j)] = min(\n",
        "                           d[(i-1,j)] + 1, # deletion\n",
        "                           d[(i,j-1)] + 1, # insertion\n",
        "                           d[(i-1,j-1)] + cost, # substitution\n",
        "                          )\n",
        "            if i and j and s1[i]==s2[j-1] and s1[i-1] == s2[j]:\n",
        "                d[(i,j)] = min (d[(i,j)], d[i-2,j-2] + cost) # transposition\n",
        "    return d[lenstr1-1,lenstr2-1] "
      ],
      "execution_count": null,
      "outputs": []
    },
    {
      "cell_type": "code",
      "metadata": {
        "id": "Jz5yjcBxlHEr"
      },
      "source": [
        "def normalized_lev(lev, n):\n",
        "  return lev/n"
      ],
      "execution_count": null,
      "outputs": []
    },
    {
      "cell_type": "code",
      "metadata": {
        "id": "ovma_9oib4x5"
      },
      "source": [
        "def DRL(normalized_levenshtein, normalized_rank):\n",
        "  return ((normalized_levenshtein + normalized_rank)/2)"
      ],
      "execution_count": null,
      "outputs": []
    },
    {
      "cell_type": "code",
      "metadata": {
        "id": "TQz3MdMA0zun"
      },
      "source": [
        "def megazord_metric(input_counters_1, input_counters_2):\n",
        "  '''\n",
        "    Gets lists of n-grams, sorted by rank. Returns F-statistics for two idioms.\n",
        "    Params: \n",
        "      input_counters_1: a list of tuples in form (n-gram, rank) for lect 1.\n",
        "      input_counters_2: a list of tuples in form (n-gram, rank) for lect 2.\n",
        "    Returns:\n",
        "      Fst: float, F-statistics for two idioms\n",
        "  '''\n",
        "  n = max([len(n[0]) for m in [input_counters_1, input_counters_2] for n in m])\n",
        "  all_n_grams = []\n",
        "  in_l1_not_in_l2 = [i for i in input_counters_1 if i[0] not in [j[0] for j in input_counters_2]]\n",
        "  in_l2_not_in_l1 = [i for i in input_counters_2 if i[0] not in [j[0] for j in input_counters_1]]\n",
        "  for i in in_l1_not_in_l2:\n",
        "    min_lev = min([dameraulevenshtein(i[0], j[0]) for j in in_l2_not_in_l1])\n",
        "    min_by_lev = [j for j in in_l2_not_in_l1 if dameraulevenshtein(i[0], j[0]) == min_lev]\n",
        "    min_dist_rank = min([abs(i[1] - j[1]) for j in min_by_lev])\n",
        "    all_n_grams.append((i[0], DRL(normalized_lev(min_lev, n),  normalized_dist_rank(min_dist_rank, len(input_counters_1), len(input_counters_2)))))\n",
        "  for i in in_l2_not_in_l1:\n",
        "    min_lev = min([dameraulevenshtein(i[0], j[0]) for j in in_l1_not_in_l2])\n",
        "    min_by_lev = [j for j in in_l1_not_in_l2 if dameraulevenshtein(i[0], j[0]) == min_lev]\n",
        "    min_dist_rank = min([abs(i[1] - j[1]) for j in min_by_lev])\n",
        "    all_n_grams.append((i[0], DRL(normalized_lev(min_lev, n),  normalized_dist_rank(min_dist_rank, len(input_counters_1), len(input_counters_2)))))\n",
        "  common_l1 = [i for i in input_counters_1 if i not in in_l1_not_in_l2]\n",
        "  common_l2 = [i for i in input_counters_2 if i not in in_l2_not_in_l1]\n",
        "  for i in common_l1:\n",
        "    dist_rank = 0\n",
        "    for j in common_l2:\n",
        "      if (i[0] == j[0]):\n",
        "        dist_rank = normalized_dist_rank(abs(i[1] - j[1]), len(input_counters_1), len(input_counters_2)) # splitting by two for normalization with aa; check later\n",
        "        all_n_grams.append((i[0], dist_rank))\n",
        "        all_n_grams.append((j[0], dist_rank))\n",
        "        break\n",
        "  Q1, Q3 = np.percentile([i[1] for i in all_n_grams], [25, 75])\n",
        "  IQR = iqr([i[1] for i in all_n_grams])\n",
        "  outlier_rim_low = Q1 - 1.5 * IQR\n",
        "  outlier_rim_high = Q3 + 1.5 * IQR\n",
        "  AA = [i for i in all_n_grams if i[1] <= outlier_rim_low]\n",
        "  Aa = [i for i in all_n_grams if ((i[1] > outlier_rim_low) and (i[1] < outlier_rim_high))]\n",
        "  aa = [i for i in all_n_grams if i[1] >= outlier_rim_high]\n",
        "  overall_length = len(input_counters_1) + len(input_counters_2)\n",
        "  AA_rel = len(AA)/overall_length\n",
        "  Aa_rel = len(Aa)/overall_length\n",
        "  aa_rel = len(aa)/overall_length\n",
        "  print(AA_rel)\n",
        "  print(Aa_rel)\n",
        "  print(aa_rel)\n",
        "  A = AA_rel + 0.5 * Aa_rel\n",
        "  a = aa_rel + 0.5 * Aa_rel \n",
        "  equilibrium = 2 * A * a\n",
        "  Fst = (equilibrium - Aa_rel)/equilibrium\n",
        "  return Fst"
      ],
      "execution_count": null,
      "outputs": []
    },
    {
      "cell_type": "code",
      "metadata": {
        "colab": {
          "base_uri": "https://localhost:8080/"
        },
        "id": "BV2bL9qR4cxy",
        "outputId": "ab59f0cb-fe9f-4008-c27f-cb36c2de893f"
      },
      "source": [
        "a = [(\"a\", 1), (\"ab\", 2), (\"aa\", 3), (\"b\", 4)]\n",
        "b = [(\"a\", 1), (\"aa\", 2), (\"c\", 3)]\n",
        "F = megazord_metric(a, b)\n",
        "print(F)"
      ],
      "execution_count": null,
      "outputs": [
        {
          "output_type": "stream",
          "name": "stdout",
          "text": [
            "0.0\n",
            "1.0\n",
            "0.0\n",
            "-1.0\n"
          ]
        }
      ]
    },
    {
      "cell_type": "code",
      "metadata": {
        "colab": {
          "base_uri": "https://localhost:8080/",
          "height": 606
        },
        "id": "SM1j6YJ4rCqY",
        "outputId": "838ca350-8ed3-4152-cb8f-7df27ce8c911"
      },
      "source": [
        "generated = np.random.rand(100)\n",
        "print(generated)\n",
        "ranks = [generated[i - 1]/i for i in range(1, len(generated) + 1)]\n",
        "order = list(zip(generated, ranks))\n",
        "df = pd.DataFrame(order, columns=['value', 'rank'])\n",
        "sns.lineplot(x='value', y='rank', data=df)"
      ],
      "execution_count": null,
      "outputs": [
        {
          "output_type": "stream",
          "name": "stdout",
          "text": [
            "[0.44135697 0.05261868 0.70749603 0.88518035 0.26333887 0.21792654\n",
            " 0.4213641  0.33238567 0.33453825 0.43661761 0.95093277 0.0075572\n",
            " 0.49186193 0.15909533 0.74075532 0.42598529 0.18347399 0.96982341\n",
            " 0.4207636  0.22133736 0.1826538  0.51891226 0.24062257 0.36739198\n",
            " 0.02222401 0.64588367 0.9658414  0.07052937 0.81006778 0.70559312\n",
            " 0.49121403 0.6065561  0.95507    0.0103371  0.45012983 0.191431\n",
            " 0.67381899 0.7417409  0.79281095 0.85549513 0.6380242  0.9956946\n",
            " 0.35243267 0.84989985 0.40343972 0.66941628 0.42364168 0.75675527\n",
            " 0.41117196 0.94929255 0.1992902  0.27735245 0.44895834 0.95865149\n",
            " 0.86940388 0.07705201 0.90213102 0.98798747 0.59437644 0.64681877\n",
            " 0.83041064 0.90246403 0.04166393 0.06759162 0.60210618 0.28930031\n",
            " 0.26196011 0.46691886 0.80422487 0.50316173 0.10398047 0.9296635\n",
            " 0.61081026 0.83144806 0.14971785 0.05368508 0.55410363 0.5975912\n",
            " 0.82340143 0.68096118 0.70071421 0.29710209 0.37944424 0.3057956\n",
            " 0.13098967 0.17459481 0.02141498 0.25435731 0.42359347 0.96182123\n",
            " 0.24621556 0.47458703 0.05679681 0.85678605 0.20702042 0.66442802\n",
            " 0.79810688 0.28402483 0.51971806 0.87256815]\n"
          ]
        },
        {
          "output_type": "execute_result",
          "data": {
            "text/plain": [
              "<matplotlib.axes._subplots.AxesSubplot at 0x7f61781fb210>"
            ]
          },
          "metadata": {},
          "execution_count": 8
        },
        {
          "output_type": "display_data",
          "data": {
            "image/png": "[encoded data removed]",
            "text/plain": [
              "<Figure size 432x288 with 1 Axes>"
            ]
          },
          "metadata": {
            "needs_background": "light"
          }
        }
      ]
    },
    {
      "cell_type": "code",
      "metadata": {
        "colab": {
          "base_uri": "https://localhost:8080/",
          "height": 297
        },
        "id": "Vk3aLtF6NhEF",
        "outputId": "e75b7603-9b8d-458a-9158-fb4d026aa6ff"
      },
      "source": [
        "generated = np.ones(100)\n",
        "ranks = [generated[i - 1]/i for i in range(1, len(generated) + 1)]\n",
        "order = list(zip(range(len(generated) + 1), ranks))\n",
        "df = pd.DataFrame(order, columns=['rank', 'value'])\n",
        "sns.lineplot(x='rank', y='value', data=df)"
      ],
      "execution_count": null,
      "outputs": [
        {
          "output_type": "execute_result",
          "data": {
            "text/plain": [
              "<matplotlib.axes._subplots.AxesSubplot at 0x7f6164b53750>"
            ]
          },
          "metadata": {},
          "execution_count": 9
        },
        {
          "output_type": "display_data",
          "data": {
            "image/png": "[encoded data removed]",
            "text/plain": [
              "<Figure size 432x288 with 1 Axes>"
            ]
          },
          "metadata": {
            "needs_background": "light"
          }
        }
      ]
    },
    {
      "cell_type": "code",
      "metadata": {
        "id": "IeJUJjJSiA0O"
      },
      "source": [
        "# AA = n-граммы, характерные для 1 идиома\n",
        "# Aa = n-граммы, характерные для обоих идиомов\n",
        "# aa = n-граммы, характерные для 2 идиома"
      ],
      "execution_count": null,
      "outputs": []
    },
    {
      "cell_type": "code",
      "metadata": {
        "id": "A7Z1mu6CSp8q"
      },
      "source": [
        "def megazord_viz(input_counters_1, input_counters_2):\n",
        "  n = max([len(n[0]) for m in [input_counters_1, input_counters_2] for n in m])\n",
        "  all_n_grams = []\n",
        "  counter = 0\n",
        "  for i in input_counters_1:\n",
        "    all_n_grams.append([])\n",
        "    for j in input_counters_2:      \n",
        "      lev = normalized_lev(dameraulevenshtein(i[0], j[0]), n)\n",
        "      dist_rank = normalized_dist_rank(abs(i[1] - j[1]), len(input_counters_1), len(input_counters_2))\n",
        "      drl = DRL(lev, dist_rank)\n",
        "      all_n_grams[counter].append(drl)\n",
        "    counter = counter + 1\n",
        "  sns.heatmap(all_n_grams, xticklabels=[i[0] for i in input_counters_2], yticklabels=[i[0] for i in input_counters_1])"
      ],
      "execution_count": null,
      "outputs": []
    },
    {
      "cell_type": "code",
      "metadata": {
        "colab": {
          "base_uri": "https://localhost:8080/",
          "height": 265
        },
        "id": "dKWVU5ZjVWfj",
        "outputId": "efd83294-775f-4d43-90ce-56440f18a6c7"
      },
      "source": [
        "megazord_viz(a, b)"
      ],
      "execution_count": null,
      "outputs": [
        {
          "output_type": "display_data",
          "data": {
            "image/png": "[encoded data removed]",
            "text/plain": [
              "<Figure size 432x288 with 2 Axes>"
            ]
          },
          "metadata": {
            "needs_background": "light"
          }
        }
      ]
    },
    {
      "cell_type": "code",
      "metadata": {
        "id": "8f8VBXB6VdAg"
      },
      "source": [
        ""
      ],
      "execution_count": null,
      "outputs": []
    }
  ]
}