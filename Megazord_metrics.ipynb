{
  "nbformat": 4,
  "nbformat_minor": 0,
  "metadata": {
    "colab": {
      "name": "Megazord_metrics.ipynb",
      "provenance": [],
      "authorship_tag": "ABX9TyM3d80T94396C8kbwWVyDS0"
    },
    "kernelspec": {
      "name": "python3",
      "display_name": "Python 3"
    },
    "language_info": {
      "name": "python"
    }
  },
  "cells": [
    {
      "cell_type": "code",
      "metadata": {
        "id": "mkGaKF0KaBC-"
      },
      "source": [
        "import numpy as np"
      ],
      "execution_count": 30,
      "outputs": []
    },
    {
      "cell_type": "code",
      "metadata": {
        "id": "BfVZhLXWUO-Y"
      },
      "source": [
        "def dameraulevenshtein(s1, s2):\n",
        "    d = {}\n",
        "    lenstr1 = len(s1)\n",
        "    lenstr2 = len(s2)\n",
        "    for i in range(-1,lenstr1+1):\n",
        "        d[(i,-1)] = i+1\n",
        "    for j in range(-1,lenstr2+1):\n",
        "        d[(-1,j)] = j+1\n",
        "\n",
        "    for i in range(lenstr1):\n",
        "        for j in range(lenstr2):\n",
        "            if s1[i] == s2[j]:\n",
        "                cost = 0\n",
        "            else:\n",
        "                cost = 1\n",
        "            d[(i,j)] = min(\n",
        "                           d[(i-1,j)] + 1, # deletion\n",
        "                           d[(i,j-1)] + 1, # insertion\n",
        "                           d[(i-1,j-1)] + cost, # substitution\n",
        "                          )\n",
        "            if i and j and s1[i]==s2[j-1] and s1[i-1] == s2[j]:\n",
        "                d[(i,j)] = min (d[(i,j)], d[i-2,j-2] + cost) # transposition\n",
        "    return d[lenstr1-1,lenstr2-1] "
      ],
      "execution_count": 26,
      "outputs": []
    },
    {
      "cell_type": "code",
      "metadata": {
        "id": "TQz3MdMA0zun"
      },
      "source": [
        "def megazord_metric(input_counters_1, input_counters_2, n, threshold, coefficient):\n",
        "  '''\n",
        "    Gets lists of n-grams, sorted by rank, threshold for distinction of their frequency differences,\n",
        "    coefficient of quantitative difference, n of n-grams. \n",
        "    Returns void.\n",
        "    Params: \n",
        "      input_counters_1: a list of tuples in form (n-gram, rank) for lect 1.\n",
        "      input_counters_2: a list of tuples in form (n-gram, rank) for lect 2.\n",
        "      n: n in n-grams\n",
        "      threshold: threshold for frequency difference distinction.\n",
        "      coefficient: multiplying factor, based on how different quantitatively counters are.\n",
        "    Returns:\n",
        "      void\n",
        "  '''\n",
        "  in_l1_not_in_l2 = [i for i in input_counters_1 if i[0] not in [j[0] for j in input_counters_2]]\n",
        "  in_l2_not_in_l1 = [i for i in input_counters_2 if i[0] not in [j[0] for j in input_counters_1]]\n",
        "  aa = [n for m in [in_l2_not_in_l1, in_l1_not_in_l2] for n in m]\n",
        "  common_l1 = [i for i in input_counters_1 if i not in in_l1_not_in_l2]\n",
        "  common_l2 = [i for i in input_counters_2 if i not in in_l2_not_in_l1]\n",
        "  AA = []\n",
        "  Aa = []\n",
        "  for i in common_l1:\n",
        "    max_lev = n + 1\n",
        "    dist_rank = 0\n",
        "    for j in common_l2:\n",
        "      lev = dameraulevenshtein(i[0], j[0])\n",
        "      if (max_lev > lev):\n",
        "        max_lev = lev\n",
        "        dist_rank = abs(i[1] - j[1])\n",
        "    dist_rank_lev = dist_rank + max_lev\n",
        "    if (dist_rank_lev <= threshold):\n",
        "      AA.append((i[0], dist_rank_lev))\n",
        "      continue\n",
        "    Aa.append((i[0], dist_rank_lev))\n",
        "  overall_length = len(input_counters_1) + len(input_counters_2)\n",
        "  AA_rel = len(AA)*2/overall_length\n",
        "  Aa_rel = len(Aa)*2/overall_length\n",
        "  aa_rel = len(aa)/overall_length\n",
        "  A = AA_rel + 0.5 * Aa_rel\n",
        "  a = aa_rel + 0.5 * Aa_rel \n",
        "  equilibrium = 2 * A * a\n",
        "  Fst = (equilibrium - Aa_rel)/equilibrium\n",
        "  return Fst"
      ],
      "execution_count": 43,
      "outputs": []
    },
    {
      "cell_type": "code",
      "metadata": {
        "colab": {
          "base_uri": "https://localhost:8080/"
        },
        "id": "BV2bL9qR4cxy",
        "outputId": "75905a7f-ffaf-4e88-cef2-4a2cf481b0b9"
      },
      "source": [
        "a = [(\"a\", 1), (\"ab\", 2), (\"aa\", 3), (\"b\", 4)]\n",
        "b = [(\"a\", 1), (\"aa\", 2), (\"c\", 3)]\n",
        "F = megazord_metric(a, b, 3, 0, 1)\n",
        "print(F)"
      ],
      "execution_count": 44,
      "outputs": [
        {
          "output_type": "stream",
          "name": "stdout",
          "text": [
            "0.41666666666666663\n"
          ]
        }
      ]
    },
    {
      "cell_type": "code",
      "metadata": {
        "id": "GemsuGXMSAYX"
      },
      "source": [
        ""
      ],
      "execution_count": null,
      "outputs": []
    }
  ]
}