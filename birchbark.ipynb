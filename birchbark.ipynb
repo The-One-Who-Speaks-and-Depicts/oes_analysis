{
  "nbformat": 4,
  "nbformat_minor": 0,
  "metadata": {
    "colab": {
      "name": "birchbark.ipynb",
      "provenance": [],
      "collapsed_sections": [],
      "authorship_tag": "ABX9TyMiiXq3j8ZWPqA279E114rG"
    },
    "kernelspec": {
      "name": "python3",
      "display_name": "Python 3"
    },
    "language_info": {
      "name": "python"
    }
  },
  "cells": [
    {
      "cell_type": "code",
      "metadata": {
        "id": "0UCDmrLoGbnp"
      },
      "source": [
        "texts_ts = {\n",
        "         \"11\":\"{по}поклонъ ѿ смешка фоми цо оставиле воць козе у ми[к]и[шк]а дан[и]лку далъ каз(анъ) (…)\",\n",
        "         \"14\": \"слово добро ѿ фомѣ к ѥсифу цто позвалъ тебе • сава здѣ су[ду] нѣт[ь] (…)\",\n",
        "         \"154\": \"воспросилѣ правищикѣ ꙩманта ростѧгалесь фипе с иваномъ стоикомъ виделе ѥсмь и цюле промежи филипомъ иваномъ дале филипе стоику ~г~ рублѣ серебромъ и ~з~ гривенъ кунъ и конь а увѣдаѥтсѧ стоике в вири и с посадникомъ и с сочкми а то сѧ диꙗлось седнѣ во велики ~днь а то диꙗлось напогостѣ на торгѣ\",\n",
        "         \"242\": \"цолобитьѥ ѿ кощѣꙗ • и ꙩѿтъ половниковъ : у кого : конѣ а тѣ худѣ • а • у ных[ъ] нѣть • какъ • ѻсподине жалуѥшь хрѣстьꙗнъ а • рожь • ѻсподине велишь мнѣ молотить (ка)къ укажешь (…)\",\n",
        "         \"243\": \"поклонъ ѿ сменка ѿ корѣлина пришле ~гнет кобѣ на село на птарево цимъ ѥго жалуѥшь и ты ~ѡспдне • прикажи всѧкоѥ слово а ꙗзъ тобѣ своѥму ~гну цоломъ бѣю\",\n",
        "         \"297\": \"целобитьѥ ѿ сергиꙗ з братьѥи изъ рагуилова ~гну михаили юрьѥвицу стогъ ~гне твои • ржаныи цетверетьнъи тати покрали ѡвиновъ • пѧть свезли въ[х]ъ и (…)\",\n",
        "         \"301\": \"ѻсподиню михаилу юрьвицу синю посадницу паробокъ твои клѧ • цоло биѥ како ѻсподине пожалуѥши волости половинѧ пуста и которъ ѻсталисѧ • •и• ти хотѧ жалуби хотѧ ѻсподине жалоби цо би ѻсподине подати оубавити а тоби своѥму ѻсподиню цоломи бию\",\n",
        "         \"306\": \"покло(нъ) (…) (миха)илу • юрьѥвицю • ув… (…) бабикъ • мене • и д… господину • целом[ъ] • бь…\",\n",
        "         \"465\": \"цолобитье [ѿ] (…) (к осподи)ну к осподар(ю) …---[к]ому коста…\", \n",
        "         \"467\": \"… того а ѧзъ тобѣ цол(омъ бью)\"\n",
        "}\n",
        "texts_ch = {\n",
        "    \"302\":\"… (ꙩсподи)не [∙] за ѧковом (∙) за по[сад](никомъ ∙ за) -----(-)вичомы како ∙ ꙩсподи ∙ попечалуѥшь ∙ ꙩ м[о](ѥи) голови ∙ чо бы сѧ ∙ на менѧ ∙ не родила ∙ грамота ∙ бесуднаѧ ∙ а ѧзъ ∙ тобѣ ∙ своѥму ∙ ꙩсподину ∙ много ∙ ѻ томъ (челомъ ∙ бью)\",\n",
        "    \"303\":\"приказъ ѿ ꙩ̈ндрѣꙗна михаїлович ∙ к пуцнѣ здѣсе ми билъ че[ломъ] -- (…)\",\n",
        "    \"307\":\"ѻсподѣну ꙩнд(рѣѧ)[н]у михаиловицю ꙩспо[д](ѣ)ну микти михаилоцю ꙩспож(ѣ н)ашеи настасѣи михаиловѣ женѣ чоломъ бѣю хрѣстьѧнѣ избоищѧнѣ  здѣсе ꙩсподо оу вашеи вълости ѧвлѧютсѧ позовницѣ оу горот[ъ]неи здѣ ѧвлѧтсѧ {п}позовници ложивыи здѣсе ꙩсподо ѧ(влѧютсѧ ру)куписание лживыѧ ∙ а ∙ перепѣ{сы}сысывають вашь нетребуи дѣѧкъ позовници и рукопѣсаниа лживыѧ ∙ а ∙ творѧтьсѧ печатале ива парфѣ рукусани{уе}ѧ а хрѣстьѧну вашь вамъ своеи ꙩсподи чоломъ бѣю\",\n",
        "    \"15\":\"члбтьѥ (ѿ) нестерка гну ивану борисо(вичу) (…) (…) [м]ѧ гне ѥси пожа[л]овал… (…)\",\n",
        "    \"97\":\"~гну ∙ юрию ∙ челомъ бѣѥ ∙ [ѡ]ртьмъка и дѣица рожь ∙ продають по (…)\",\n",
        "    \"157\":\"\t~гну михаилу юрьѥвичю биютъ челомъ хрстѧне черенщани чо ѥси ~гне велѣлъ намъ перест(а)вливати дворъ и ключникъ намъ ~гне велитъ пер(е)[с]та(вливати) … …и ~гне ли--вы (…) не оупра…\",\n",
        "    \"161\":\"перха ~г~ ка~држи наумь ~г~ ржи ѻгафаноко кад ржи грига ~в~ ка~држи ∙ кулба кад ржи филимонь ~г~ ка~држи ѻфромѣѥць ка~држи васке ~в~ ка~држи у ѻбакунцѧ ~в~ ка~држи у максимцѧ ~в~ ка~држи шестьники ~е~ ка~држи у ѻкиша ~в~ ка~држи у тораха ~г~ ка~држи исакь поль ~г~ третьи ржи у съсьѧ ~в~ржи у токарѧ ~в~ ржи у микитци ка~држи у доманта ~г~ ржи у ѻвсѧника кад ржи у понарьи поль треть ржи у юрка ~в~ - у чупровыхь ~е~ ржи\",\n",
        "    \"308\":\"~[г]ну михаилу юрьѥвичю (бьѥть челомъ) па[р]о[бе]нь твои зѣнов[еи] (…)\",\n",
        "    \"309\":\"а се билъ челомъ ивашь ∙ с симаномъ ∙ ꙩ жеребьцѣ\",\n",
        "    \"313\": \"~гну михаӏ∙лу юрьѥвичю ∙ челомь бьють ∙ ~хтьꙗни [твои] ∙ смердыньскиӏ : здѣсе ∙ ~гне у насъ ∙ глѣбъ не по… (…)[ст҃](м)[у] ------ъ нѣ чимъ и (…)\"\n",
        "}"
      ],
      "execution_count": null,
      "outputs": []
    },
    {
      "cell_type": "code",
      "metadata": {
        "id": "m4wNR1K0pNGU"
      },
      "source": [
        "import networkx as nx\n",
        "import pandas as pd\n",
        "import re\n",
        "from collections import  Counter\n",
        "import numpy as np\n"
      ],
      "execution_count": 77,
      "outputs": []
    },
    {
      "cell_type": "markdown",
      "metadata": {
        "id": "imgkBWfrsHH5"
      },
      "source": [
        "В 297й, 306, 465 непоследовательное многоточие\n",
        "\n",
        "буллет-пойнты в ц-грамотах не копируются, в ч-грамотах непоследовательно\n",
        "\n",
        "Запрос НКРЯ: ч\\* /ц\\*"
      ]
    },
    {
      "cell_type": "code",
      "metadata": {
        "id": "CIAR5wgrpRS_"
      },
      "source": [
        "texts_ts = {\n",
        "         \"11\":\"{по}поклонъ ѿ смешка фоми цо оставиле воць козе у ми[к]и[шк]а дан[и]лку далъ каз(анъ) (…)\",\n",
        "         \"14\": \"слово добро ѿ фомѣ к ѥсифу цто позвалъ тебе • сава здѣ су[ду] нѣт[ь] (…)\",\n",
        "         \"154\": \"воспросилѣ правищикѣ ꙩманта ростѧгалесь фипе с иваномъ стоикомъ виделе ѥсмь и цюле промежи филипомъ иваномъ дале филипе стоику ~г~ рублѣ серебромъ и ~з~ гривенъ кунъ и конь а увѣдаѥтсѧ стоике в вири и с посадникомъ и с сочкми а то сѧ диꙗлось седнѣ во велики ~днь а то диꙗлось напогостѣ на торгѣ\",\n",
        "         \"242\": \"цолобитьѥ ѿ кощѣꙗ • и ꙩѿтъ половниковъ : у кого : конѣ а тѣ худѣ • а • у ных[ъ] нѣть • какъ • ѻсподине жалуѥшь хрѣстьꙗнъ а • рожь • ѻсподине велишь мнѣ молотить (ка)къ укажешь (…)\",\n",
        "         \"243\": \"поклонъ ѿ сменка ѿ корѣлина пришле ~гнет кобѣ на село на птарево цимъ ѥго жалуѥшь и ты ~ѡспдне • прикажи всѧкоѥ слово а ꙗзъ тобѣ своѥму ~гну цоломъ бѣю\"\n",
        "}"
      ],
      "execution_count": 279,
      "outputs": []
    },
    {
      "cell_type": "code",
      "metadata": {
        "id": "HqGYggGWukh6"
      },
      "source": [
        "texts_ch = {\n",
        "    \"302\":\"… (ꙩсподи)не [∙] за ѧковом (∙) за по[сад](никомъ ∙ за) -----(-)вичомы како ∙ ꙩсподи ∙ попечалуѥшь ∙ ꙩ м[о](ѥи) голови ∙ чо бы сѧ ∙ на менѧ ∙ не родила ∙ грамота ∙ бесуднаѧ ∙ а ѧзъ ∙ тобѣ ∙ своѥму ∙ ꙩсподину ∙ много ∙ ѻ томъ (челомъ ∙ бью)\",\n",
        "    \"303\":\"приказъ ѿ ꙩ̈ндрѣꙗна михаїлович ∙ к пуцнѣ здѣсе ми билъ че[ломъ] -- (…)\",\n",
        "    \"307\":\"ѻсподѣну ꙩнд(рѣѧ)[н]у михаиловицю ꙩспо[д](ѣ)ну микти михаилоцю ꙩспож(ѣ н)ашеи настасѣи михаиловѣ женѣ чоломъ бѣю хрѣстьѧнѣ избоищѧнѣ  здѣсе ꙩсподо оу вашеи вълости ѧвлѧютсѧ позовницѣ оу горот[ъ]неи здѣ ѧвлѧтсѧ {п}позовници ложивыи здѣсе ꙩсподо ѧ(влѧютсѧ ру)куписание лживыѧ ∙ а ∙ перепѣ{сы}сысывають вашь нетребуи дѣѧкъ позовници и рукопѣсаниа лживыѧ ∙ а ∙ творѧтьсѧ печатале ива парфѣ рукусани{уе}ѧ а хрѣстьѧну вашь вамъ своеи ꙩсподи чоломъ бѣю\",\n",
        "    \"15\":\"члбтьѥ (ѿ) нестерка гну ивану борисо(вичу) (…) (…) [м]ѧ гне ѥси пожа[л]овал… (…)\",\n",
        "    \"97\":\"~гну ∙ юрию ∙ челомъ бѣѥ ∙ [ѡ]ртьмъка и дѣица рожь ∙ продають по (…)\"\n",
        "    }"
      ],
      "execution_count": 280,
      "outputs": []
    },
    {
      "cell_type": "code",
      "metadata": {
        "id": "W5c20cJM2_dC"
      },
      "source": [
        "df_ts = pd.DataFrame(texts_ts.items(), columns=[\"id\", \"text\"])"
      ],
      "execution_count": 281,
      "outputs": []
    },
    {
      "cell_type": "code",
      "metadata": {
        "colab": {
          "base_uri": "https://localhost:8080/",
          "height": 204
        },
        "id": "VOupcMOp3ODj",
        "outputId": "a9bd1e94-3285-40be-b819-323c302b703b"
      },
      "source": [
        "df_ts.head()"
      ],
      "execution_count": 282,
      "outputs": [
        {
          "output_type": "execute_result",
          "data": {
            "text/html": [
              "<div>\n",
              "<style scoped>\n",
              "    .dataframe tbody tr th:only-of-type {\n",
              "        vertical-align: middle;\n",
              "    }\n",
              "\n",
              "    .dataframe tbody tr th {\n",
              "        vertical-align: top;\n",
              "    }\n",
              "\n",
              "    .dataframe thead th {\n",
              "        text-align: right;\n",
              "    }\n",
              "</style>\n",
              "<table border=\"1\" class=\"dataframe\">\n",
              "  <thead>\n",
              "    <tr style=\"text-align: right;\">\n",
              "      <th></th>\n",
              "      <th>id</th>\n",
              "      <th>text</th>\n",
              "    </tr>\n",
              "  </thead>\n",
              "  <tbody>\n",
              "    <tr>\n",
              "      <th>0</th>\n",
              "      <td>11</td>\n",
              "      <td>{по}поклонъ ѿ смешка фоми цо оставиле воць коз...</td>\n",
              "    </tr>\n",
              "    <tr>\n",
              "      <th>1</th>\n",
              "      <td>14</td>\n",
              "      <td>слово добро ѿ фомѣ к ѥсифу цто позвалъ тебе • ...</td>\n",
              "    </tr>\n",
              "    <tr>\n",
              "      <th>2</th>\n",
              "      <td>154</td>\n",
              "      <td>воспросилѣ правищикѣ ꙩманта ростѧгалесь фипе с...</td>\n",
              "    </tr>\n",
              "    <tr>\n",
              "      <th>3</th>\n",
              "      <td>242</td>\n",
              "      <td>цолобитьѥ ѿ кощѣꙗ • и ꙩѿтъ половниковъ : у ког...</td>\n",
              "    </tr>\n",
              "    <tr>\n",
              "      <th>4</th>\n",
              "      <td>243</td>\n",
              "      <td>поклонъ ѿ сменка ѿ корѣлина пришле ~гнет кобѣ ...</td>\n",
              "    </tr>\n",
              "  </tbody>\n",
              "</table>\n",
              "</div>"
            ],
            "text/plain": [
              "    id                                               text\n",
              "0   11  {по}поклонъ ѿ смешка фоми цо оставиле воць коз...\n",
              "1   14  слово добро ѿ фомѣ к ѥсифу цто позвалъ тебе • ...\n",
              "2  154  воспросилѣ правищикѣ ꙩманта ростѧгалесь фипе с...\n",
              "3  242  цолобитьѥ ѿ кощѣꙗ • и ꙩѿтъ половниковъ : у ког...\n",
              "4  243  поклонъ ѿ сменка ѿ корѣлина пришле ~гнет кобѣ ..."
            ]
          },
          "metadata": {},
          "execution_count": 282
        }
      ]
    },
    {
      "cell_type": "code",
      "metadata": {
        "id": "g3hmU6Cu3TsU"
      },
      "source": [
        "df_ts[\"ch/ts\"] = \"ts\""
      ],
      "execution_count": 283,
      "outputs": []
    },
    {
      "cell_type": "code",
      "metadata": {
        "colab": {
          "base_uri": "https://localhost:8080/",
          "height": 204
        },
        "id": "XupmaeJu4aU0",
        "outputId": "f0d22e7a-1a1c-4e48-98f7-d40da80c0ed7"
      },
      "source": [
        "df_ts.head()"
      ],
      "execution_count": 284,
      "outputs": [
        {
          "output_type": "execute_result",
          "data": {
            "text/html": [
              "<div>\n",
              "<style scoped>\n",
              "    .dataframe tbody tr th:only-of-type {\n",
              "        vertical-align: middle;\n",
              "    }\n",
              "\n",
              "    .dataframe tbody tr th {\n",
              "        vertical-align: top;\n",
              "    }\n",
              "\n",
              "    .dataframe thead th {\n",
              "        text-align: right;\n",
              "    }\n",
              "</style>\n",
              "<table border=\"1\" class=\"dataframe\">\n",
              "  <thead>\n",
              "    <tr style=\"text-align: right;\">\n",
              "      <th></th>\n",
              "      <th>id</th>\n",
              "      <th>text</th>\n",
              "      <th>ch/ts</th>\n",
              "    </tr>\n",
              "  </thead>\n",
              "  <tbody>\n",
              "    <tr>\n",
              "      <th>0</th>\n",
              "      <td>11</td>\n",
              "      <td>{по}поклонъ ѿ смешка фоми цо оставиле воць коз...</td>\n",
              "      <td>ts</td>\n",
              "    </tr>\n",
              "    <tr>\n",
              "      <th>1</th>\n",
              "      <td>14</td>\n",
              "      <td>слово добро ѿ фомѣ к ѥсифу цто позвалъ тебе • ...</td>\n",
              "      <td>ts</td>\n",
              "    </tr>\n",
              "    <tr>\n",
              "      <th>2</th>\n",
              "      <td>154</td>\n",
              "      <td>воспросилѣ правищикѣ ꙩманта ростѧгалесь фипе с...</td>\n",
              "      <td>ts</td>\n",
              "    </tr>\n",
              "    <tr>\n",
              "      <th>3</th>\n",
              "      <td>242</td>\n",
              "      <td>цолобитьѥ ѿ кощѣꙗ • и ꙩѿтъ половниковъ : у ког...</td>\n",
              "      <td>ts</td>\n",
              "    </tr>\n",
              "    <tr>\n",
              "      <th>4</th>\n",
              "      <td>243</td>\n",
              "      <td>поклонъ ѿ сменка ѿ корѣлина пришле ~гнет кобѣ ...</td>\n",
              "      <td>ts</td>\n",
              "    </tr>\n",
              "  </tbody>\n",
              "</table>\n",
              "</div>"
            ],
            "text/plain": [
              "    id                                               text ch/ts\n",
              "0   11  {по}поклонъ ѿ смешка фоми цо оставиле воць коз...    ts\n",
              "1   14  слово добро ѿ фомѣ к ѥсифу цто позвалъ тебе • ...    ts\n",
              "2  154  воспросилѣ правищикѣ ꙩманта ростѧгалесь фипе с...    ts\n",
              "3  242  цолобитьѥ ѿ кощѣꙗ • и ꙩѿтъ половниковъ : у ког...    ts\n",
              "4  243  поклонъ ѿ сменка ѿ корѣлина пришле ~гнет кобѣ ...    ts"
            ]
          },
          "metadata": {},
          "execution_count": 284
        }
      ]
    },
    {
      "cell_type": "code",
      "metadata": {
        "id": "QsUGkyKb4bfp"
      },
      "source": [
        "df_ch = pd.DataFrame(texts_ch.items(), columns=[\"id\", \"text\"])\n",
        "df_ch[\"ch/ts\"] = \"ch\""
      ],
      "execution_count": 285,
      "outputs": []
    },
    {
      "cell_type": "code",
      "metadata": {
        "id": "IUyJHnzo4hi6"
      },
      "source": [
        "df_final = pd.concat([df_ts, df_ch])"
      ],
      "execution_count": 286,
      "outputs": []
    },
    {
      "cell_type": "code",
      "metadata": {
        "colab": {
          "base_uri": "https://localhost:8080/",
          "height": 204
        },
        "id": "xZkDYM8u4nNL",
        "outputId": "5bb391c7-6ec0-4795-cfa3-b9f7403ff1ff"
      },
      "source": [
        "df_final.head()"
      ],
      "execution_count": 287,
      "outputs": [
        {
          "output_type": "execute_result",
          "data": {
            "text/html": [
              "<div>\n",
              "<style scoped>\n",
              "    .dataframe tbody tr th:only-of-type {\n",
              "        vertical-align: middle;\n",
              "    }\n",
              "\n",
              "    .dataframe tbody tr th {\n",
              "        vertical-align: top;\n",
              "    }\n",
              "\n",
              "    .dataframe thead th {\n",
              "        text-align: right;\n",
              "    }\n",
              "</style>\n",
              "<table border=\"1\" class=\"dataframe\">\n",
              "  <thead>\n",
              "    <tr style=\"text-align: right;\">\n",
              "      <th></th>\n",
              "      <th>id</th>\n",
              "      <th>text</th>\n",
              "      <th>ch/ts</th>\n",
              "    </tr>\n",
              "  </thead>\n",
              "  <tbody>\n",
              "    <tr>\n",
              "      <th>0</th>\n",
              "      <td>11</td>\n",
              "      <td>{по}поклонъ ѿ смешка фоми цо оставиле воць коз...</td>\n",
              "      <td>ts</td>\n",
              "    </tr>\n",
              "    <tr>\n",
              "      <th>1</th>\n",
              "      <td>14</td>\n",
              "      <td>слово добро ѿ фомѣ к ѥсифу цто позвалъ тебе • ...</td>\n",
              "      <td>ts</td>\n",
              "    </tr>\n",
              "    <tr>\n",
              "      <th>2</th>\n",
              "      <td>154</td>\n",
              "      <td>воспросилѣ правищикѣ ꙩманта ростѧгалесь фипе с...</td>\n",
              "      <td>ts</td>\n",
              "    </tr>\n",
              "    <tr>\n",
              "      <th>3</th>\n",
              "      <td>242</td>\n",
              "      <td>цолобитьѥ ѿ кощѣꙗ • и ꙩѿтъ половниковъ : у ког...</td>\n",
              "      <td>ts</td>\n",
              "    </tr>\n",
              "    <tr>\n",
              "      <th>4</th>\n",
              "      <td>243</td>\n",
              "      <td>поклонъ ѿ сменка ѿ корѣлина пришле ~гнет кобѣ ...</td>\n",
              "      <td>ts</td>\n",
              "    </tr>\n",
              "  </tbody>\n",
              "</table>\n",
              "</div>"
            ],
            "text/plain": [
              "    id                                               text ch/ts\n",
              "0   11  {по}поклонъ ѿ смешка фоми цо оставиле воць коз...    ts\n",
              "1   14  слово добро ѿ фомѣ к ѥсифу цто позвалъ тебе • ...    ts\n",
              "2  154  воспросилѣ правищикѣ ꙩманта ростѧгалесь фипе с...    ts\n",
              "3  242  цолобитьѥ ѿ кощѣꙗ • и ꙩѿтъ половниковъ : у ког...    ts\n",
              "4  243  поклонъ ѿ сменка ѿ корѣлина пришле ~гнет кобѣ ...    ts"
            ]
          },
          "metadata": {},
          "execution_count": 287
        }
      ]
    },
    {
      "cell_type": "code",
      "metadata": {
        "id": "5gf7yPRV4oZI"
      },
      "source": [
        "def search_for_relevant(text):\n",
        "  return [\"ц\", \"ч\"]"
      ],
      "execution_count": 288,
      "outputs": []
    },
    {
      "cell_type": "code",
      "metadata": {
        "id": "n_yyeKBj50JS"
      },
      "source": [
        "relevant_items = search_for_relevant(\"цч\")"
      ],
      "execution_count": 289,
      "outputs": []
    },
    {
      "cell_type": "code",
      "metadata": {
        "id": "hkfCcGax5X9T"
      },
      "source": [
        "def save_relevant(text, relevant_ones):\n",
        "  return [i for i in text.split() if any([j in i for j in relevant_ones])]"
      ],
      "execution_count": 290,
      "outputs": []
    },
    {
      "cell_type": "code",
      "metadata": {
        "id": "aKxWl4kY5otA"
      },
      "source": [
        "df_final[\"clean_text\"] = df_final[\"text\"].apply(lambda x: save_relevant(x, relevant_items))"
      ],
      "execution_count": 291,
      "outputs": []
    },
    {
      "cell_type": "code",
      "metadata": {
        "colab": {
          "base_uri": "https://localhost:8080/",
          "height": 204
        },
        "id": "pfJu0AnA5vZl",
        "outputId": "9343dc1f-02a6-4e28-aef5-3dd4e80412e7"
      },
      "source": [
        "df_final.head()"
      ],
      "execution_count": 292,
      "outputs": [
        {
          "output_type": "execute_result",
          "data": {
            "text/html": [
              "<div>\n",
              "<style scoped>\n",
              "    .dataframe tbody tr th:only-of-type {\n",
              "        vertical-align: middle;\n",
              "    }\n",
              "\n",
              "    .dataframe tbody tr th {\n",
              "        vertical-align: top;\n",
              "    }\n",
              "\n",
              "    .dataframe thead th {\n",
              "        text-align: right;\n",
              "    }\n",
              "</style>\n",
              "<table border=\"1\" class=\"dataframe\">\n",
              "  <thead>\n",
              "    <tr style=\"text-align: right;\">\n",
              "      <th></th>\n",
              "      <th>id</th>\n",
              "      <th>text</th>\n",
              "      <th>ch/ts</th>\n",
              "      <th>clean_text</th>\n",
              "    </tr>\n",
              "  </thead>\n",
              "  <tbody>\n",
              "    <tr>\n",
              "      <th>0</th>\n",
              "      <td>11</td>\n",
              "      <td>{по}поклонъ ѿ смешка фоми цо оставиле воць коз...</td>\n",
              "      <td>ts</td>\n",
              "      <td>[цо, воць]</td>\n",
              "    </tr>\n",
              "    <tr>\n",
              "      <th>1</th>\n",
              "      <td>14</td>\n",
              "      <td>слово добро ѿ фомѣ к ѥсифу цто позвалъ тебе • ...</td>\n",
              "      <td>ts</td>\n",
              "      <td>[цто]</td>\n",
              "    </tr>\n",
              "    <tr>\n",
              "      <th>2</th>\n",
              "      <td>154</td>\n",
              "      <td>воспросилѣ правищикѣ ꙩманта ростѧгалесь фипе с...</td>\n",
              "      <td>ts</td>\n",
              "      <td>[цюле, сочкми]</td>\n",
              "    </tr>\n",
              "    <tr>\n",
              "      <th>3</th>\n",
              "      <td>242</td>\n",
              "      <td>цолобитьѥ ѿ кощѣꙗ • и ꙩѿтъ половниковъ : у ког...</td>\n",
              "      <td>ts</td>\n",
              "      <td>[цолобитьѥ]</td>\n",
              "    </tr>\n",
              "    <tr>\n",
              "      <th>4</th>\n",
              "      <td>243</td>\n",
              "      <td>поклонъ ѿ сменка ѿ корѣлина пришле ~гнет кобѣ ...</td>\n",
              "      <td>ts</td>\n",
              "      <td>[цимъ, цоломъ]</td>\n",
              "    </tr>\n",
              "  </tbody>\n",
              "</table>\n",
              "</div>"
            ],
            "text/plain": [
              "    id  ...       clean_text\n",
              "0   11  ...       [цо, воць]\n",
              "1   14  ...            [цто]\n",
              "2  154  ...  [цюле, сочкми]\n",
              "3  242  ...      [цолобитьѥ]\n",
              "4  243  ...   [цимъ, цоломъ]\n",
              "\n",
              "[5 rows x 4 columns]"
            ]
          },
          "metadata": {},
          "execution_count": 292
        }
      ]
    },
    {
      "cell_type": "code",
      "metadata": {
        "id": "QZRB7YbP7Ny8"
      },
      "source": [
        "def n_grams(word, grams):\n",
        "    n_grams = []\n",
        "    if ((grams == 0) or (len(word) <= grams)):\n",
        "        n_grams.append(word)\n",
        "    else:\n",
        "        counter = 0\n",
        "        while ((len(word) - counter) >= grams):\n",
        "            resulting_word = ''            \n",
        "            for i in range (counter, counter + grams):\n",
        "                resulting_word += word[i]                \n",
        "            n_grams.append(resulting_word)\n",
        "            counter = counter + 1\n",
        "    return n_grams"
      ],
      "execution_count": 293,
      "outputs": []
    },
    {
      "cell_type": "code",
      "metadata": {
        "id": "dLTYaPi2ACRG"
      },
      "source": [
        "df_final[\"n_grams\"] = df_final[\"text\"].apply(lambda x: n_grams(x, 3))"
      ],
      "execution_count": 294,
      "outputs": []
    },
    {
      "cell_type": "code",
      "metadata": {
        "colab": {
          "base_uri": "https://localhost:8080/",
          "height": 204
        },
        "id": "tAvwninlAVLp",
        "outputId": "ededed2d-d706-4156-ddb6-cd571a7ff013"
      },
      "source": [
        "df_final.head()"
      ],
      "execution_count": 295,
      "outputs": [
        {
          "output_type": "execute_result",
          "data": {
            "text/html": [
              "<div>\n",
              "<style scoped>\n",
              "    .dataframe tbody tr th:only-of-type {\n",
              "        vertical-align: middle;\n",
              "    }\n",
              "\n",
              "    .dataframe tbody tr th {\n",
              "        vertical-align: top;\n",
              "    }\n",
              "\n",
              "    .dataframe thead th {\n",
              "        text-align: right;\n",
              "    }\n",
              "</style>\n",
              "<table border=\"1\" class=\"dataframe\">\n",
              "  <thead>\n",
              "    <tr style=\"text-align: right;\">\n",
              "      <th></th>\n",
              "      <th>id</th>\n",
              "      <th>text</th>\n",
              "      <th>ch/ts</th>\n",
              "      <th>clean_text</th>\n",
              "      <th>n_grams</th>\n",
              "    </tr>\n",
              "  </thead>\n",
              "  <tbody>\n",
              "    <tr>\n",
              "      <th>0</th>\n",
              "      <td>11</td>\n",
              "      <td>{по}поклонъ ѿ смешка фоми цо оставиле воць коз...</td>\n",
              "      <td>ts</td>\n",
              "      <td>[цо, воць]</td>\n",
              "      <td>[{по, по}, о}п, }по, пок, окл, кло, лон, онъ, ...</td>\n",
              "    </tr>\n",
              "    <tr>\n",
              "      <th>1</th>\n",
              "      <td>14</td>\n",
              "      <td>слово добро ѿ фомѣ к ѥсифу цто позвалъ тебе • ...</td>\n",
              "      <td>ts</td>\n",
              "      <td>[цто]</td>\n",
              "      <td>[сло, лов, ово, во , о д,  до, доб, обр, бро, ...</td>\n",
              "    </tr>\n",
              "    <tr>\n",
              "      <th>2</th>\n",
              "      <td>154</td>\n",
              "      <td>воспросилѣ правищикѣ ꙩманта ростѧгалесь фипе с...</td>\n",
              "      <td>ts</td>\n",
              "      <td>[цюле, сочкми]</td>\n",
              "      <td>[вос, осп, спр, про, рос, оси, сил, илѣ, лѣ , ...</td>\n",
              "    </tr>\n",
              "    <tr>\n",
              "      <th>3</th>\n",
              "      <td>242</td>\n",
              "      <td>цолобитьѥ ѿ кощѣꙗ • и ꙩѿтъ половниковъ : у ког...</td>\n",
              "      <td>ts</td>\n",
              "      <td>[цолобитьѥ]</td>\n",
              "      <td>[цол, оло, лоб, оби, бит, ить, тьѥ, ьѥ , ѥ ѿ, ...</td>\n",
              "    </tr>\n",
              "    <tr>\n",
              "      <th>4</th>\n",
              "      <td>243</td>\n",
              "      <td>поклонъ ѿ сменка ѿ корѣлина пришле ~гнет кобѣ ...</td>\n",
              "      <td>ts</td>\n",
              "      <td>[цимъ, цоломъ]</td>\n",
              "      <td>[пок, окл, кло, лон, онъ, нъ , ъ ѿ,  ѿ , ѿ с, ...</td>\n",
              "    </tr>\n",
              "  </tbody>\n",
              "</table>\n",
              "</div>"
            ],
            "text/plain": [
              "    id  ...                                            n_grams\n",
              "0   11  ...  [{по, по}, о}п, }по, пок, окл, кло, лон, онъ, ...\n",
              "1   14  ...  [сло, лов, ово, во , о д,  до, доб, обр, бро, ...\n",
              "2  154  ...  [вос, осп, спр, про, рос, оси, сил, илѣ, лѣ , ...\n",
              "3  242  ...  [цол, оло, лоб, оби, бит, ить, тьѥ, ьѥ , ѥ ѿ, ...\n",
              "4  243  ...  [пок, окл, кло, лон, онъ, нъ , ъ ѿ,  ѿ , ѿ с, ...\n",
              "\n",
              "[5 rows x 5 columns]"
            ]
          },
          "metadata": {},
          "execution_count": 295
        }
      ]
    },
    {
      "cell_type": "code",
      "metadata": {
        "id": "S0wNA2JvAc5F"
      },
      "source": [
        "df_final[\"relevant_n_grams\"] = df_final[\"clean_text\"].apply(lambda x: [n_grams(i, 3) for i in x])"
      ],
      "execution_count": 296,
      "outputs": []
    },
    {
      "cell_type": "code",
      "metadata": {
        "colab": {
          "base_uri": "https://localhost:8080/",
          "height": 204
        },
        "id": "XVLlg8GaAu8f",
        "outputId": "1b5afd44-e971-4ea0-d0e3-df34cfcfe696"
      },
      "source": [
        "df_final.head()"
      ],
      "execution_count": 297,
      "outputs": [
        {
          "output_type": "execute_result",
          "data": {
            "text/html": [
              "<div>\n",
              "<style scoped>\n",
              "    .dataframe tbody tr th:only-of-type {\n",
              "        vertical-align: middle;\n",
              "    }\n",
              "\n",
              "    .dataframe tbody tr th {\n",
              "        vertical-align: top;\n",
              "    }\n",
              "\n",
              "    .dataframe thead th {\n",
              "        text-align: right;\n",
              "    }\n",
              "</style>\n",
              "<table border=\"1\" class=\"dataframe\">\n",
              "  <thead>\n",
              "    <tr style=\"text-align: right;\">\n",
              "      <th></th>\n",
              "      <th>id</th>\n",
              "      <th>text</th>\n",
              "      <th>ch/ts</th>\n",
              "      <th>clean_text</th>\n",
              "      <th>n_grams</th>\n",
              "      <th>relevant_n_grams</th>\n",
              "    </tr>\n",
              "  </thead>\n",
              "  <tbody>\n",
              "    <tr>\n",
              "      <th>0</th>\n",
              "      <td>11</td>\n",
              "      <td>{по}поклонъ ѿ смешка фоми цо оставиле воць коз...</td>\n",
              "      <td>ts</td>\n",
              "      <td>[цо, воць]</td>\n",
              "      <td>[{по, по}, о}п, }по, пок, окл, кло, лон, онъ, ...</td>\n",
              "      <td>[[цо], [воц, оць]]</td>\n",
              "    </tr>\n",
              "    <tr>\n",
              "      <th>1</th>\n",
              "      <td>14</td>\n",
              "      <td>слово добро ѿ фомѣ к ѥсифу цто позвалъ тебе • ...</td>\n",
              "      <td>ts</td>\n",
              "      <td>[цто]</td>\n",
              "      <td>[сло, лов, ово, во , о д,  до, доб, обр, бро, ...</td>\n",
              "      <td>[[цто]]</td>\n",
              "    </tr>\n",
              "    <tr>\n",
              "      <th>2</th>\n",
              "      <td>154</td>\n",
              "      <td>воспросилѣ правищикѣ ꙩманта ростѧгалесь фипе с...</td>\n",
              "      <td>ts</td>\n",
              "      <td>[цюле, сочкми]</td>\n",
              "      <td>[вос, осп, спр, про, рос, оси, сил, илѣ, лѣ , ...</td>\n",
              "      <td>[[цюл, юле], [соч, очк, чк, км, ми]]</td>\n",
              "    </tr>\n",
              "    <tr>\n",
              "      <th>3</th>\n",
              "      <td>242</td>\n",
              "      <td>цолобитьѥ ѿ кощѣꙗ • и ꙩѿтъ половниковъ : у ког...</td>\n",
              "      <td>ts</td>\n",
              "      <td>[цолобитьѥ]</td>\n",
              "      <td>[цол, оло, лоб, оби, бит, ить, тьѥ, ьѥ , ѥ ѿ, ...</td>\n",
              "      <td>[[цол, оло, лоб, оби, бит, ить, тьѥ]]</td>\n",
              "    </tr>\n",
              "    <tr>\n",
              "      <th>4</th>\n",
              "      <td>243</td>\n",
              "      <td>поклонъ ѿ сменка ѿ корѣлина пришле ~гнет кобѣ ...</td>\n",
              "      <td>ts</td>\n",
              "      <td>[цимъ, цоломъ]</td>\n",
              "      <td>[пок, окл, кло, лон, онъ, нъ , ъ ѿ,  ѿ , ѿ с, ...</td>\n",
              "      <td>[[цим, имъ], [цол, оло, лом, омъ]]</td>\n",
              "    </tr>\n",
              "  </tbody>\n",
              "</table>\n",
              "</div>"
            ],
            "text/plain": [
              "    id  ...                         relevant_n_grams\n",
              "0   11  ...                       [[цо], [воц, оць]]\n",
              "1   14  ...                                  [[цто]]\n",
              "2  154  ...  [[цюл, юле], [соч, очк, чк, км, ми]]\n",
              "3  242  ...    [[цол, оло, лоб, оби, бит, ить, тьѥ]]\n",
              "4  243  ...       [[цим, имъ], [цол, оло, лом, омъ]]\n",
              "\n",
              "[5 rows x 6 columns]"
            ]
          },
          "metadata": {},
          "execution_count": 297
        }
      ]
    },
    {
      "cell_type": "code",
      "metadata": {
        "id": "ouDx3JWEAxRI"
      },
      "source": [
        "df_final[\"relevant_n_grams\"] = df_final[\"relevant_n_grams\"].apply(lambda x: [item for sublist in x for item in sublist])"
      ],
      "execution_count": 298,
      "outputs": []
    },
    {
      "cell_type": "code",
      "metadata": {
        "colab": {
          "base_uri": "https://localhost:8080/",
          "height": 204
        },
        "id": "O-A52221BYW2",
        "outputId": "36d6381c-b080-4864-f7a3-e95bd38a3f55"
      },
      "source": [
        "df_final.head()"
      ],
      "execution_count": 299,
      "outputs": [
        {
          "output_type": "execute_result",
          "data": {
            "text/html": [
              "<div>\n",
              "<style scoped>\n",
              "    .dataframe tbody tr th:only-of-type {\n",
              "        vertical-align: middle;\n",
              "    }\n",
              "\n",
              "    .dataframe tbody tr th {\n",
              "        vertical-align: top;\n",
              "    }\n",
              "\n",
              "    .dataframe thead th {\n",
              "        text-align: right;\n",
              "    }\n",
              "</style>\n",
              "<table border=\"1\" class=\"dataframe\">\n",
              "  <thead>\n",
              "    <tr style=\"text-align: right;\">\n",
              "      <th></th>\n",
              "      <th>id</th>\n",
              "      <th>text</th>\n",
              "      <th>ch/ts</th>\n",
              "      <th>clean_text</th>\n",
              "      <th>n_grams</th>\n",
              "      <th>relevant_n_grams</th>\n",
              "    </tr>\n",
              "  </thead>\n",
              "  <tbody>\n",
              "    <tr>\n",
              "      <th>0</th>\n",
              "      <td>11</td>\n",
              "      <td>{по}поклонъ ѿ смешка фоми цо оставиле воць коз...</td>\n",
              "      <td>ts</td>\n",
              "      <td>[цо, воць]</td>\n",
              "      <td>[{по, по}, о}п, }по, пок, окл, кло, лон, онъ, ...</td>\n",
              "      <td>[цо, воц, оць]</td>\n",
              "    </tr>\n",
              "    <tr>\n",
              "      <th>1</th>\n",
              "      <td>14</td>\n",
              "      <td>слово добро ѿ фомѣ к ѥсифу цто позвалъ тебе • ...</td>\n",
              "      <td>ts</td>\n",
              "      <td>[цто]</td>\n",
              "      <td>[сло, лов, ово, во , о д,  до, доб, обр, бро, ...</td>\n",
              "      <td>[цто]</td>\n",
              "    </tr>\n",
              "    <tr>\n",
              "      <th>2</th>\n",
              "      <td>154</td>\n",
              "      <td>воспросилѣ правищикѣ ꙩманта ростѧгалесь фипе с...</td>\n",
              "      <td>ts</td>\n",
              "      <td>[цюле, сочкми]</td>\n",
              "      <td>[вос, осп, спр, про, рос, оси, сил, илѣ, лѣ , ...</td>\n",
              "      <td>[цюл, юле, соч, очк, чк, км, ми]</td>\n",
              "    </tr>\n",
              "    <tr>\n",
              "      <th>3</th>\n",
              "      <td>242</td>\n",
              "      <td>цолобитьѥ ѿ кощѣꙗ • и ꙩѿтъ половниковъ : у ког...</td>\n",
              "      <td>ts</td>\n",
              "      <td>[цолобитьѥ]</td>\n",
              "      <td>[цол, оло, лоб, оби, бит, ить, тьѥ, ьѥ , ѥ ѿ, ...</td>\n",
              "      <td>[цол, оло, лоб, оби, бит, ить, тьѥ]</td>\n",
              "    </tr>\n",
              "    <tr>\n",
              "      <th>4</th>\n",
              "      <td>243</td>\n",
              "      <td>поклонъ ѿ сменка ѿ корѣлина пришле ~гнет кобѣ ...</td>\n",
              "      <td>ts</td>\n",
              "      <td>[цимъ, цоломъ]</td>\n",
              "      <td>[пок, окл, кло, лон, онъ, нъ , ъ ѿ,  ѿ , ѿ с, ...</td>\n",
              "      <td>[цим, имъ, цол, оло, лом, омъ]</td>\n",
              "    </tr>\n",
              "  </tbody>\n",
              "</table>\n",
              "</div>"
            ],
            "text/plain": [
              "    id  ...                     relevant_n_grams\n",
              "0   11  ...                       [цо, воц, оць]\n",
              "1   14  ...                                [цто]\n",
              "2  154  ...  [цюл, юле, соч, очк, чк, км, ми]\n",
              "3  242  ...  [цол, оло, лоб, оби, бит, ить, тьѥ]\n",
              "4  243  ...       [цим, имъ, цол, оло, лом, омъ]\n",
              "\n",
              "[5 rows x 6 columns]"
            ]
          },
          "metadata": {},
          "execution_count": 299
        }
      ]
    },
    {
      "cell_type": "code",
      "metadata": {
        "id": "u0FJHKBKBZiX"
      },
      "source": [
        "df_final[\"relevant_n_grams\"] = df_final[\"relevant_n_grams\"].apply(lambda x: save_relevant(' '.join(x), relevant_items))"
      ],
      "execution_count": 300,
      "outputs": []
    },
    {
      "cell_type": "code",
      "metadata": {
        "colab": {
          "base_uri": "https://localhost:8080/",
          "height": 204
        },
        "id": "Dn-b4IjGBoeR",
        "outputId": "4c4e563c-be14-41c8-f07b-873d0fe3ad4e"
      },
      "source": [
        "df_final.head()"
      ],
      "execution_count": 301,
      "outputs": [
        {
          "output_type": "execute_result",
          "data": {
            "text/html": [
              "<div>\n",
              "<style scoped>\n",
              "    .dataframe tbody tr th:only-of-type {\n",
              "        vertical-align: middle;\n",
              "    }\n",
              "\n",
              "    .dataframe tbody tr th {\n",
              "        vertical-align: top;\n",
              "    }\n",
              "\n",
              "    .dataframe thead th {\n",
              "        text-align: right;\n",
              "    }\n",
              "</style>\n",
              "<table border=\"1\" class=\"dataframe\">\n",
              "  <thead>\n",
              "    <tr style=\"text-align: right;\">\n",
              "      <th></th>\n",
              "      <th>id</th>\n",
              "      <th>text</th>\n",
              "      <th>ch/ts</th>\n",
              "      <th>clean_text</th>\n",
              "      <th>n_grams</th>\n",
              "      <th>relevant_n_grams</th>\n",
              "    </tr>\n",
              "  </thead>\n",
              "  <tbody>\n",
              "    <tr>\n",
              "      <th>0</th>\n",
              "      <td>11</td>\n",
              "      <td>{по}поклонъ ѿ смешка фоми цо оставиле воць коз...</td>\n",
              "      <td>ts</td>\n",
              "      <td>[цо, воць]</td>\n",
              "      <td>[{по, по}, о}п, }по, пок, окл, кло, лон, онъ, ...</td>\n",
              "      <td>[цо, воц, оць]</td>\n",
              "    </tr>\n",
              "    <tr>\n",
              "      <th>1</th>\n",
              "      <td>14</td>\n",
              "      <td>слово добро ѿ фомѣ к ѥсифу цто позвалъ тебе • ...</td>\n",
              "      <td>ts</td>\n",
              "      <td>[цто]</td>\n",
              "      <td>[сло, лов, ово, во , о д,  до, доб, обр, бро, ...</td>\n",
              "      <td>[цто]</td>\n",
              "    </tr>\n",
              "    <tr>\n",
              "      <th>2</th>\n",
              "      <td>154</td>\n",
              "      <td>воспросилѣ правищикѣ ꙩманта ростѧгалесь фипе с...</td>\n",
              "      <td>ts</td>\n",
              "      <td>[цюле, сочкми]</td>\n",
              "      <td>[вос, осп, спр, про, рос, оси, сил, илѣ, лѣ , ...</td>\n",
              "      <td>[цюл, соч, очк, чк]</td>\n",
              "    </tr>\n",
              "    <tr>\n",
              "      <th>3</th>\n",
              "      <td>242</td>\n",
              "      <td>цолобитьѥ ѿ кощѣꙗ • и ꙩѿтъ половниковъ : у ког...</td>\n",
              "      <td>ts</td>\n",
              "      <td>[цолобитьѥ]</td>\n",
              "      <td>[цол, оло, лоб, оби, бит, ить, тьѥ, ьѥ , ѥ ѿ, ...</td>\n",
              "      <td>[цол]</td>\n",
              "    </tr>\n",
              "    <tr>\n",
              "      <th>4</th>\n",
              "      <td>243</td>\n",
              "      <td>поклонъ ѿ сменка ѿ корѣлина пришле ~гнет кобѣ ...</td>\n",
              "      <td>ts</td>\n",
              "      <td>[цимъ, цоломъ]</td>\n",
              "      <td>[пок, окл, кло, лон, онъ, нъ , ъ ѿ,  ѿ , ѿ с, ...</td>\n",
              "      <td>[цим, цол]</td>\n",
              "    </tr>\n",
              "  </tbody>\n",
              "</table>\n",
              "</div>"
            ],
            "text/plain": [
              "    id  ...      relevant_n_grams\n",
              "0   11  ...        [цо, воц, оць]\n",
              "1   14  ...                 [цто]\n",
              "2  154  ...  [цюл, соч, очк, чк]\n",
              "3  242  ...                 [цол]\n",
              "4  243  ...            [цим, цол]\n",
              "\n",
              "[5 rows x 6 columns]"
            ]
          },
          "metadata": {},
          "execution_count": 301
        }
      ]
    },
    {
      "cell_type": "code",
      "metadata": {
        "id": "8taj-gsHBwV7"
      },
      "source": [
        "df_final[\"n_counters\"] = df_final[\"n_grams\"].apply(lambda x: Counter(x).most_common())"
      ],
      "execution_count": 302,
      "outputs": []
    },
    {
      "cell_type": "code",
      "metadata": {
        "colab": {
          "base_uri": "https://localhost:8080/",
          "height": 204
        },
        "id": "bxscn0E8GSgC",
        "outputId": "0b922439-2a0d-49bf-8279-b65b5215b879"
      },
      "source": [
        "df_final.head()"
      ],
      "execution_count": 303,
      "outputs": [
        {
          "output_type": "execute_result",
          "data": {
            "text/html": [
              "<div>\n",
              "<style scoped>\n",
              "    .dataframe tbody tr th:only-of-type {\n",
              "        vertical-align: middle;\n",
              "    }\n",
              "\n",
              "    .dataframe tbody tr th {\n",
              "        vertical-align: top;\n",
              "    }\n",
              "\n",
              "    .dataframe thead th {\n",
              "        text-align: right;\n",
              "    }\n",
              "</style>\n",
              "<table border=\"1\" class=\"dataframe\">\n",
              "  <thead>\n",
              "    <tr style=\"text-align: right;\">\n",
              "      <th></th>\n",
              "      <th>id</th>\n",
              "      <th>text</th>\n",
              "      <th>ch/ts</th>\n",
              "      <th>clean_text</th>\n",
              "      <th>n_grams</th>\n",
              "      <th>relevant_n_grams</th>\n",
              "      <th>n_counters</th>\n",
              "    </tr>\n",
              "  </thead>\n",
              "  <tbody>\n",
              "    <tr>\n",
              "      <th>0</th>\n",
              "      <td>11</td>\n",
              "      <td>{по}поклонъ ѿ смешка фоми цо оставиле воць коз...</td>\n",
              "      <td>ts</td>\n",
              "      <td>[цо, воць]</td>\n",
              "      <td>[{по, по}, о}п, }по, пок, окл, кло, лон, онъ, ...</td>\n",
              "      <td>[цо, воц, оць]</td>\n",
              "      <td>[( да, 2), ({по, 1), (по}, 1), (о}п, 1), (}по,...</td>\n",
              "    </tr>\n",
              "    <tr>\n",
              "      <th>1</th>\n",
              "      <td>14</td>\n",
              "      <td>слово добро ѿ фомѣ к ѥсифу цто позвалъ тебе • ...</td>\n",
              "      <td>ts</td>\n",
              "      <td>[цто]</td>\n",
              "      <td>[сло, лов, ово, во , о д,  до, доб, обр, бро, ...</td>\n",
              "      <td>[цто]</td>\n",
              "      <td>[(сло, 1), (лов, 1), (ово, 1), (во , 1), (о д,...</td>\n",
              "    </tr>\n",
              "    <tr>\n",
              "      <th>2</th>\n",
              "      <td>154</td>\n",
              "      <td>воспросилѣ правищикѣ ꙩманта ростѧгалесь фипе с...</td>\n",
              "      <td>ts</td>\n",
              "      <td>[цюле, сочкми]</td>\n",
              "      <td>[вос, осп, спр, про, рос, оси, сил, илѣ, лѣ , ...</td>\n",
              "      <td>[цюл, соч, очк, чк]</td>\n",
              "      <td>[(омъ, 6), (мъ , 6), ( и , 5), (ъ и, 4), (сь ,...</td>\n",
              "    </tr>\n",
              "    <tr>\n",
              "      <th>3</th>\n",
              "      <td>242</td>\n",
              "      <td>цолобитьѥ ѿ кощѣꙗ • и ꙩѿтъ половниковъ : у ког...</td>\n",
              "      <td>ts</td>\n",
              "      <td>[цолобитьѥ]</td>\n",
              "      <td>[цол, оло, лоб, оби, бит, ить, тьѥ, ьѥ , ѥ ѿ, ...</td>\n",
              "      <td>[цол]</td>\n",
              "      <td>[( • , 7), (оло, 3), ( ко, 3), ( а , 3), (шь ,...</td>\n",
              "    </tr>\n",
              "    <tr>\n",
              "      <th>4</th>\n",
              "      <td>243</td>\n",
              "      <td>поклонъ ѿ сменка ѿ корѣлина пришле ~гнет кобѣ ...</td>\n",
              "      <td>ts</td>\n",
              "      <td>[цимъ, цоломъ]</td>\n",
              "      <td>[пок, окл, кло, лон, онъ, нъ , ъ ѿ,  ѿ , ѿ с, ...</td>\n",
              "      <td>[цим, цол]</td>\n",
              "      <td>[(на , 3), ( ѿ , 2), ( ко, 2), (а п, 2), ( пр,...</td>\n",
              "    </tr>\n",
              "  </tbody>\n",
              "</table>\n",
              "</div>"
            ],
            "text/plain": [
              "    id  ...                                         n_counters\n",
              "0   11  ...  [( да, 2), ({по, 1), (по}, 1), (о}п, 1), (}по,...\n",
              "1   14  ...  [(сло, 1), (лов, 1), (ово, 1), (во , 1), (о д,...\n",
              "2  154  ...  [(омъ, 6), (мъ , 6), ( и , 5), (ъ и, 4), (сь ,...\n",
              "3  242  ...  [( • , 7), (оло, 3), ( ко, 3), ( а , 3), (шь ,...\n",
              "4  243  ...  [(на , 3), ( ѿ , 2), ( ко, 2), (а п, 2), ( пр,...\n",
              "\n",
              "[5 rows x 7 columns]"
            ]
          },
          "metadata": {},
          "execution_count": 303
        }
      ]
    },
    {
      "cell_type": "code",
      "metadata": {
        "id": "hB7jQ4zZKLnc"
      },
      "source": [
        "df_final[\"n_counters\"] = df_final[\"n_grams\"].apply(lambda x: dict((item[1][0], item[0]) for item in enumerate(reversed(sorted(Counter(x).most_common(),  key=lambda y: (y[1], y[0]))))))"
      ],
      "execution_count": 304,
      "outputs": []
    },
    {
      "cell_type": "code",
      "metadata": {
        "colab": {
          "base_uri": "https://localhost:8080/",
          "height": 204
        },
        "id": "dplrCtWOKNGS",
        "outputId": "b00c7511-b4ee-479b-9c64-eaa619c52bf3"
      },
      "source": [
        "df_final.head()"
      ],
      "execution_count": 305,
      "outputs": [
        {
          "output_type": "execute_result",
          "data": {
            "text/html": [
              "<div>\n",
              "<style scoped>\n",
              "    .dataframe tbody tr th:only-of-type {\n",
              "        vertical-align: middle;\n",
              "    }\n",
              "\n",
              "    .dataframe tbody tr th {\n",
              "        vertical-align: top;\n",
              "    }\n",
              "\n",
              "    .dataframe thead th {\n",
              "        text-align: right;\n",
              "    }\n",
              "</style>\n",
              "<table border=\"1\" class=\"dataframe\">\n",
              "  <thead>\n",
              "    <tr style=\"text-align: right;\">\n",
              "      <th></th>\n",
              "      <th>id</th>\n",
              "      <th>text</th>\n",
              "      <th>ch/ts</th>\n",
              "      <th>clean_text</th>\n",
              "      <th>n_grams</th>\n",
              "      <th>relevant_n_grams</th>\n",
              "      <th>n_counters</th>\n",
              "    </tr>\n",
              "  </thead>\n",
              "  <tbody>\n",
              "    <tr>\n",
              "      <th>0</th>\n",
              "      <td>11</td>\n",
              "      <td>{по}поклонъ ѿ смешка фоми цо оставиле воць коз...</td>\n",
              "      <td>ts</td>\n",
              "      <td>[цо, воць]</td>\n",
              "      <td>[{по, по}, о}п, }по, пок, окл, кло, лон, онъ, ...</td>\n",
              "      <td>[цо, воц, оць]</td>\n",
              "      <td>{' да': 0, 'ѿ с': 1, 'ь к': 2, 'ъ) ': 3, 'ъ ѿ'...</td>\n",
              "    </tr>\n",
              "    <tr>\n",
              "      <th>1</th>\n",
              "      <td>14</td>\n",
              "      <td>слово добро ѿ фомѣ к ѥсифу цто позвалъ тебе • ...</td>\n",
              "      <td>ts</td>\n",
              "      <td>[цто]</td>\n",
              "      <td>[сло, лов, ово, во , о д,  до, доб, обр, бро, ...</td>\n",
              "      <td>[цто]</td>\n",
              "      <td>{'• с': 0, 'ѿ ф': 1, 'ѥси': 2, 'ѣт[': 3, 'ѣ с'...</td>\n",
              "    </tr>\n",
              "    <tr>\n",
              "      <th>2</th>\n",
              "      <td>154</td>\n",
              "      <td>воспросилѣ правищикѣ ꙩманта ростѧгалесь фипе с...</td>\n",
              "      <td>ts</td>\n",
              "      <td>[цюле, сочкми]</td>\n",
              "      <td>[вос, осп, спр, про, рос, оси, сил, илѣ, лѣ , ...</td>\n",
              "      <td>[цюл, соч, очк, чк]</td>\n",
              "      <td>{'омъ': 0, 'мъ ': 1, ' и ': 2, 'ъ и': 3, 'тои'...</td>\n",
              "    </tr>\n",
              "    <tr>\n",
              "      <th>3</th>\n",
              "      <td>242</td>\n",
              "      <td>цолобитьѥ ѿ кощѣꙗ • и ꙩѿтъ половниковъ : у ког...</td>\n",
              "      <td>ts</td>\n",
              "      <td>[цолобитьѥ]</td>\n",
              "      <td>[цол, оло, лоб, оби, бит, ить, тьѥ, ьѥ , ѥ ѿ, ...</td>\n",
              "      <td>[цол]</td>\n",
              "      <td>{' • ': 0, 'шь ': 1, 'оло': 2, ' ко': 3, ' а '...</td>\n",
              "    </tr>\n",
              "    <tr>\n",
              "      <th>4</th>\n",
              "      <td>243</td>\n",
              "      <td>поклонъ ѿ сменка ѿ корѣлина пришле ~гнет кобѣ ...</td>\n",
              "      <td>ts</td>\n",
              "      <td>[цимъ, цоломъ]</td>\n",
              "      <td>[пок, окл, кло, лон, онъ, нъ , ъ ѿ,  ѿ , ѿ с, ...</td>\n",
              "      <td>[цим, цол]</td>\n",
              "      <td>{'на ': 0, 'при': 1, 'обѣ': 2, 'мъ ': 3, 'во '...</td>\n",
              "    </tr>\n",
              "  </tbody>\n",
              "</table>\n",
              "</div>"
            ],
            "text/plain": [
              "    id  ...                                         n_counters\n",
              "0   11  ...  {' да': 0, 'ѿ с': 1, 'ь к': 2, 'ъ) ': 3, 'ъ ѿ'...\n",
              "1   14  ...  {'• с': 0, 'ѿ ф': 1, 'ѥси': 2, 'ѣт[': 3, 'ѣ с'...\n",
              "2  154  ...  {'омъ': 0, 'мъ ': 1, ' и ': 2, 'ъ и': 3, 'тои'...\n",
              "3  242  ...  {' • ': 0, 'шь ': 1, 'оло': 2, ' ко': 3, ' а '...\n",
              "4  243  ...  {'на ': 0, 'при': 1, 'обѣ': 2, 'мъ ': 3, 'во '...\n",
              "\n",
              "[5 rows x 7 columns]"
            ]
          },
          "metadata": {},
          "execution_count": 305
        }
      ]
    },
    {
      "cell_type": "code",
      "metadata": {
        "id": "PBRu4ISXHVKo"
      },
      "source": [
        "def find_matches(all_n_as_counter, relevant_n):\n",
        "  return [n for n in all_n_as_counter.items() if n[0] in relevant_n]"
      ],
      "execution_count": 306,
      "outputs": []
    },
    {
      "cell_type": "code",
      "metadata": {
        "colab": {
          "base_uri": "https://localhost:8080/",
          "height": 204
        },
        "id": "O3K2IdDCIVc5",
        "outputId": "40ad9d06-51b9-40b5-8aac-35d2c9eb9b56"
      },
      "source": [
        "df_final.head()"
      ],
      "execution_count": 307,
      "outputs": [
        {
          "output_type": "execute_result",
          "data": {
            "text/html": [
              "<div>\n",
              "<style scoped>\n",
              "    .dataframe tbody tr th:only-of-type {\n",
              "        vertical-align: middle;\n",
              "    }\n",
              "\n",
              "    .dataframe tbody tr th {\n",
              "        vertical-align: top;\n",
              "    }\n",
              "\n",
              "    .dataframe thead th {\n",
              "        text-align: right;\n",
              "    }\n",
              "</style>\n",
              "<table border=\"1\" class=\"dataframe\">\n",
              "  <thead>\n",
              "    <tr style=\"text-align: right;\">\n",
              "      <th></th>\n",
              "      <th>id</th>\n",
              "      <th>text</th>\n",
              "      <th>ch/ts</th>\n",
              "      <th>clean_text</th>\n",
              "      <th>n_grams</th>\n",
              "      <th>relevant_n_grams</th>\n",
              "      <th>n_counters</th>\n",
              "    </tr>\n",
              "  </thead>\n",
              "  <tbody>\n",
              "    <tr>\n",
              "      <th>0</th>\n",
              "      <td>11</td>\n",
              "      <td>{по}поклонъ ѿ смешка фоми цо оставиле воць коз...</td>\n",
              "      <td>ts</td>\n",
              "      <td>[цо, воць]</td>\n",
              "      <td>[{по, по}, о}п, }по, пок, окл, кло, лон, онъ, ...</td>\n",
              "      <td>[цо, воц, оць]</td>\n",
              "      <td>{' да': 0, 'ѿ с': 1, 'ь к': 2, 'ъ) ': 3, 'ъ ѿ'...</td>\n",
              "    </tr>\n",
              "    <tr>\n",
              "      <th>1</th>\n",
              "      <td>14</td>\n",
              "      <td>слово добро ѿ фомѣ к ѥсифу цто позвалъ тебе • ...</td>\n",
              "      <td>ts</td>\n",
              "      <td>[цто]</td>\n",
              "      <td>[сло, лов, ово, во , о д,  до, доб, обр, бро, ...</td>\n",
              "      <td>[цто]</td>\n",
              "      <td>{'• с': 0, 'ѿ ф': 1, 'ѥси': 2, 'ѣт[': 3, 'ѣ с'...</td>\n",
              "    </tr>\n",
              "    <tr>\n",
              "      <th>2</th>\n",
              "      <td>154</td>\n",
              "      <td>воспросилѣ правищикѣ ꙩманта ростѧгалесь фипе с...</td>\n",
              "      <td>ts</td>\n",
              "      <td>[цюле, сочкми]</td>\n",
              "      <td>[вос, осп, спр, про, рос, оси, сил, илѣ, лѣ , ...</td>\n",
              "      <td>[цюл, соч, очк, чк]</td>\n",
              "      <td>{'омъ': 0, 'мъ ': 1, ' и ': 2, 'ъ и': 3, 'тои'...</td>\n",
              "    </tr>\n",
              "    <tr>\n",
              "      <th>3</th>\n",
              "      <td>242</td>\n",
              "      <td>цолобитьѥ ѿ кощѣꙗ • и ꙩѿтъ половниковъ : у ког...</td>\n",
              "      <td>ts</td>\n",
              "      <td>[цолобитьѥ]</td>\n",
              "      <td>[цол, оло, лоб, оби, бит, ить, тьѥ, ьѥ , ѥ ѿ, ...</td>\n",
              "      <td>[цол]</td>\n",
              "      <td>{' • ': 0, 'шь ': 1, 'оло': 2, ' ко': 3, ' а '...</td>\n",
              "    </tr>\n",
              "    <tr>\n",
              "      <th>4</th>\n",
              "      <td>243</td>\n",
              "      <td>поклонъ ѿ сменка ѿ корѣлина пришле ~гнет кобѣ ...</td>\n",
              "      <td>ts</td>\n",
              "      <td>[цимъ, цоломъ]</td>\n",
              "      <td>[пок, окл, кло, лон, онъ, нъ , ъ ѿ,  ѿ , ѿ с, ...</td>\n",
              "      <td>[цим, цол]</td>\n",
              "      <td>{'на ': 0, 'при': 1, 'обѣ': 2, 'мъ ': 3, 'во '...</td>\n",
              "    </tr>\n",
              "  </tbody>\n",
              "</table>\n",
              "</div>"
            ],
            "text/plain": [
              "    id  ...                                         n_counters\n",
              "0   11  ...  {' да': 0, 'ѿ с': 1, 'ь к': 2, 'ъ) ': 3, 'ъ ѿ'...\n",
              "1   14  ...  {'• с': 0, 'ѿ ф': 1, 'ѥси': 2, 'ѣт[': 3, 'ѣ с'...\n",
              "2  154  ...  {'омъ': 0, 'мъ ': 1, ' и ': 2, 'ъ и': 3, 'тои'...\n",
              "3  242  ...  {' • ': 0, 'шь ': 1, 'оло': 2, ' ко': 3, ' а '...\n",
              "4  243  ...  {'на ': 0, 'при': 1, 'обѣ': 2, 'мъ ': 3, 'во '...\n",
              "\n",
              "[5 rows x 7 columns]"
            ]
          },
          "metadata": {},
          "execution_count": 307
        }
      ]
    },
    {
      "cell_type": "code",
      "metadata": {
        "id": "wbNbRbDGG0r5"
      },
      "source": [
        "df_final[\"relevant_counters\"] = df_final.apply(lambda x: find_matches(x.n_counters, x.relevant_n_grams), axis = 1)"
      ],
      "execution_count": 308,
      "outputs": []
    },
    {
      "cell_type": "code",
      "metadata": {
        "colab": {
          "base_uri": "https://localhost:8080/",
          "height": 204
        },
        "id": "gLuzBJVNHmQZ",
        "outputId": "6ed7337c-8d71-44dd-dde8-b49e87f274db"
      },
      "source": [
        "df_final.head()"
      ],
      "execution_count": 309,
      "outputs": [
        {
          "output_type": "execute_result",
          "data": {
            "text/html": [
              "<div>\n",
              "<style scoped>\n",
              "    .dataframe tbody tr th:only-of-type {\n",
              "        vertical-align: middle;\n",
              "    }\n",
              "\n",
              "    .dataframe tbody tr th {\n",
              "        vertical-align: top;\n",
              "    }\n",
              "\n",
              "    .dataframe thead th {\n",
              "        text-align: right;\n",
              "    }\n",
              "</style>\n",
              "<table border=\"1\" class=\"dataframe\">\n",
              "  <thead>\n",
              "    <tr style=\"text-align: right;\">\n",
              "      <th></th>\n",
              "      <th>id</th>\n",
              "      <th>text</th>\n",
              "      <th>ch/ts</th>\n",
              "      <th>clean_text</th>\n",
              "      <th>n_grams</th>\n",
              "      <th>relevant_n_grams</th>\n",
              "      <th>n_counters</th>\n",
              "      <th>relevant_counters</th>\n",
              "    </tr>\n",
              "  </thead>\n",
              "  <tbody>\n",
              "    <tr>\n",
              "      <th>0</th>\n",
              "      <td>11</td>\n",
              "      <td>{по}поклонъ ѿ смешка фоми цо оставиле воць коз...</td>\n",
              "      <td>ts</td>\n",
              "      <td>[цо, воць]</td>\n",
              "      <td>[{по, по}, о}п, }по, пок, окл, кло, лон, онъ, ...</td>\n",
              "      <td>[цо, воц, оць]</td>\n",
              "      <td>{' да': 0, 'ѿ с': 1, 'ь к': 2, 'ъ) ': 3, 'ъ ѿ'...</td>\n",
              "      <td>[(оць, 18), (воц, 55)]</td>\n",
              "    </tr>\n",
              "    <tr>\n",
              "      <th>1</th>\n",
              "      <td>14</td>\n",
              "      <td>слово добро ѿ фомѣ к ѥсифу цто позвалъ тебе • ...</td>\n",
              "      <td>ts</td>\n",
              "      <td>[цто]</td>\n",
              "      <td>[сло, лов, ово, во , о д,  до, доб, обр, бро, ...</td>\n",
              "      <td>[цто]</td>\n",
              "      <td>{'• с': 0, 'ѿ ф': 1, 'ѥси': 2, 'ѣт[': 3, 'ѣ с'...</td>\n",
              "      <td>[(цто, 8)]</td>\n",
              "    </tr>\n",
              "    <tr>\n",
              "      <th>2</th>\n",
              "      <td>154</td>\n",
              "      <td>воспросилѣ правищикѣ ꙩманта ростѧгалесь фипе с...</td>\n",
              "      <td>ts</td>\n",
              "      <td>[цюле, сочкми]</td>\n",
              "      <td>[вос, осп, спр, про, рос, оси, сил, илѣ, лѣ , ...</td>\n",
              "      <td>[цюл, соч, очк, чк]</td>\n",
              "      <td>{'омъ': 0, 'мъ ': 1, ' и ': 2, 'ъ и': 3, 'тои'...</td>\n",
              "      <td>[(чк, 74), (цюл, 75), (соч, 89), (очк, 108)]</td>\n",
              "    </tr>\n",
              "    <tr>\n",
              "      <th>3</th>\n",
              "      <td>242</td>\n",
              "      <td>цолобитьѥ ѿ кощѣꙗ • и ꙩѿтъ половниковъ : у ког...</td>\n",
              "      <td>ts</td>\n",
              "      <td>[цолобитьѥ]</td>\n",
              "      <td>[цол, оло, лоб, оби, бит, ить, тьѥ, ьѥ , ѥ ѿ, ...</td>\n",
              "      <td>[цол]</td>\n",
              "      <td>{' • ': 0, 'шь ': 1, 'оло': 2, ' ко': 3, ' а '...</td>\n",
              "      <td>[(цол, 54)]</td>\n",
              "    </tr>\n",
              "    <tr>\n",
              "      <th>4</th>\n",
              "      <td>243</td>\n",
              "      <td>поклонъ ѿ сменка ѿ корѣлина пришле ~гнет кобѣ ...</td>\n",
              "      <td>ts</td>\n",
              "      <td>[цимъ, цоломъ]</td>\n",
              "      <td>[пок, окл, кло, лон, онъ, нъ , ъ ѿ,  ѿ , ѿ с, ...</td>\n",
              "      <td>[цим, цол]</td>\n",
              "      <td>{'на ': 0, 'при': 1, 'обѣ': 2, 'мъ ': 3, 'во '...</td>\n",
              "      <td>[(цол, 35), (цим, 36)]</td>\n",
              "    </tr>\n",
              "  </tbody>\n",
              "</table>\n",
              "</div>"
            ],
            "text/plain": [
              "    id  ...                              relevant_counters\n",
              "0   11  ...                         [(оць, 18), (воц, 55)]\n",
              "1   14  ...                                     [(цто, 8)]\n",
              "2  154  ...  [(чк, 74), (цюл, 75), (соч, 89), (очк, 108)]\n",
              "3  242  ...                                    [(цол, 54)]\n",
              "4  243  ...                         [(цол, 35), (цим, 36)]\n",
              "\n",
              "[5 rows x 8 columns]"
            ]
          },
          "metadata": {},
          "execution_count": 309
        }
      ]
    },
    {
      "cell_type": "code",
      "metadata": {
        "id": "Sn9C4P6WlhBV"
      },
      "source": [
        "def ratio(text):\n",
        "  ts = len([i for i in text if i == \"ц\"])\n",
        "  ch = len([i for i in text if i == \"ч\"])\n",
        "  return (ts/ch if ch != 0 else 0)"
      ],
      "execution_count": 310,
      "outputs": []
    },
    {
      "cell_type": "code",
      "metadata": {
        "id": "by3RDfIEL4a3"
      },
      "source": [
        "df_final[\"ts/ch ratio\"] = df_final[\"text\"].apply(lambda x: ratio(x))"
      ],
      "execution_count": 311,
      "outputs": []
    },
    {
      "cell_type": "code",
      "metadata": {
        "colab": {
          "base_uri": "https://localhost:8080/",
          "height": 204
        },
        "id": "q0qs_TWulbXU",
        "outputId": "60681ab6-85a3-4912-aae4-1144da1dd8b8"
      },
      "source": [
        "df_final.head()"
      ],
      "execution_count": 312,
      "outputs": [
        {
          "output_type": "execute_result",
          "data": {
            "text/html": [
              "<div>\n",
              "<style scoped>\n",
              "    .dataframe tbody tr th:only-of-type {\n",
              "        vertical-align: middle;\n",
              "    }\n",
              "\n",
              "    .dataframe tbody tr th {\n",
              "        vertical-align: top;\n",
              "    }\n",
              "\n",
              "    .dataframe thead th {\n",
              "        text-align: right;\n",
              "    }\n",
              "</style>\n",
              "<table border=\"1\" class=\"dataframe\">\n",
              "  <thead>\n",
              "    <tr style=\"text-align: right;\">\n",
              "      <th></th>\n",
              "      <th>id</th>\n",
              "      <th>text</th>\n",
              "      <th>ch/ts</th>\n",
              "      <th>clean_text</th>\n",
              "      <th>n_grams</th>\n",
              "      <th>relevant_n_grams</th>\n",
              "      <th>n_counters</th>\n",
              "      <th>relevant_counters</th>\n",
              "      <th>ts/ch ratio</th>\n",
              "    </tr>\n",
              "  </thead>\n",
              "  <tbody>\n",
              "    <tr>\n",
              "      <th>0</th>\n",
              "      <td>11</td>\n",
              "      <td>{по}поклонъ ѿ смешка фоми цо оставиле воць коз...</td>\n",
              "      <td>ts</td>\n",
              "      <td>[цо, воць]</td>\n",
              "      <td>[{по, по}, о}п, }по, пок, окл, кло, лон, онъ, ...</td>\n",
              "      <td>[цо, воц, оць]</td>\n",
              "      <td>{' да': 0, 'ѿ с': 1, 'ь к': 2, 'ъ) ': 3, 'ъ ѿ'...</td>\n",
              "      <td>[(оць, 18), (воц, 55)]</td>\n",
              "      <td>0.0</td>\n",
              "    </tr>\n",
              "    <tr>\n",
              "      <th>1</th>\n",
              "      <td>14</td>\n",
              "      <td>слово добро ѿ фомѣ к ѥсифу цто позвалъ тебе • ...</td>\n",
              "      <td>ts</td>\n",
              "      <td>[цто]</td>\n",
              "      <td>[сло, лов, ово, во , о д,  до, доб, обр, бро, ...</td>\n",
              "      <td>[цто]</td>\n",
              "      <td>{'• с': 0, 'ѿ ф': 1, 'ѥси': 2, 'ѣт[': 3, 'ѣ с'...</td>\n",
              "      <td>[(цто, 8)]</td>\n",
              "      <td>0.0</td>\n",
              "    </tr>\n",
              "    <tr>\n",
              "      <th>2</th>\n",
              "      <td>154</td>\n",
              "      <td>воспросилѣ правищикѣ ꙩманта ростѧгалесь фипе с...</td>\n",
              "      <td>ts</td>\n",
              "      <td>[цюле, сочкми]</td>\n",
              "      <td>[вос, осп, спр, про, рос, оси, сил, илѣ, лѣ , ...</td>\n",
              "      <td>[цюл, соч, очк, чк]</td>\n",
              "      <td>{'омъ': 0, 'мъ ': 1, ' и ': 2, 'ъ и': 3, 'тои'...</td>\n",
              "      <td>[(чк, 74), (цюл, 75), (соч, 89), (очк, 108)]</td>\n",
              "      <td>1.0</td>\n",
              "    </tr>\n",
              "    <tr>\n",
              "      <th>3</th>\n",
              "      <td>242</td>\n",
              "      <td>цолобитьѥ ѿ кощѣꙗ • и ꙩѿтъ половниковъ : у ког...</td>\n",
              "      <td>ts</td>\n",
              "      <td>[цолобитьѥ]</td>\n",
              "      <td>[цол, оло, лоб, оби, бит, ить, тьѥ, ьѥ , ѥ ѿ, ...</td>\n",
              "      <td>[цол]</td>\n",
              "      <td>{' • ': 0, 'шь ': 1, 'оло': 2, ' ко': 3, ' а '...</td>\n",
              "      <td>[(цол, 54)]</td>\n",
              "      <td>0.0</td>\n",
              "    </tr>\n",
              "    <tr>\n",
              "      <th>4</th>\n",
              "      <td>243</td>\n",
              "      <td>поклонъ ѿ сменка ѿ корѣлина пришле ~гнет кобѣ ...</td>\n",
              "      <td>ts</td>\n",
              "      <td>[цимъ, цоломъ]</td>\n",
              "      <td>[пок, окл, кло, лон, онъ, нъ , ъ ѿ,  ѿ , ѿ с, ...</td>\n",
              "      <td>[цим, цол]</td>\n",
              "      <td>{'на ': 0, 'при': 1, 'обѣ': 2, 'мъ ': 3, 'во '...</td>\n",
              "      <td>[(цол, 35), (цим, 36)]</td>\n",
              "      <td>0.0</td>\n",
              "    </tr>\n",
              "  </tbody>\n",
              "</table>\n",
              "</div>"
            ],
            "text/plain": [
              "    id  ... ts/ch ratio\n",
              "0   11  ...         0.0\n",
              "1   14  ...         0.0\n",
              "2  154  ...         1.0\n",
              "3  242  ...         0.0\n",
              "4  243  ...         0.0\n",
              "\n",
              "[5 rows x 9 columns]"
            ]
          },
          "metadata": {},
          "execution_count": 312
        }
      ]
    },
    {
      "cell_type": "code",
      "metadata": {
        "id": "vevpARY5mV0l"
      },
      "source": [
        "def get_middle_pos(text, letters):\n",
        "  return np.mean([np.mean([i.index(j) for j in i if j in letters]) for i in text.split() if not np.isnan(np.mean([i.index(j) for j in i if j in letters]))])"
      ],
      "execution_count": 313,
      "outputs": []
    },
    {
      "cell_type": "code",
      "metadata": {
        "colab": {
          "base_uri": "https://localhost:8080/"
        },
        "id": "yQ2HITFzmGT8",
        "outputId": "76286b12-a595-4c6a-9cb8-7981ce613fae"
      },
      "source": [
        "df_final[\"ts_pos\"] = df_final[\"text\"].apply(lambda x: get_middle_pos(x, [\"ц\"]))\n",
        "df_final[\"ch_pos\"] = df_final[\"text\"].apply(lambda x: get_middle_pos(x, [\"ч\"]))\n",
        "df_final[\"rel_pos\"] = df_final[\"text\"].apply(lambda x: get_middle_pos(x, [\"ц\", \"ч\"]))\n",
        "df_final = df_final.fillna(0)"
      ],
      "execution_count": 314,
      "outputs": [
        {
          "output_type": "stream",
          "name": "stderr",
          "text": [
            "/usr/local/lib/python3.7/dist-packages/numpy/core/fromnumeric.py:3373: RuntimeWarning: Mean of empty slice.\n",
            "  out=out, **kwargs)\n"
          ]
        }
      ]
    },
    {
      "cell_type": "code",
      "metadata": {
        "colab": {
          "base_uri": "https://localhost:8080/",
          "height": 306
        },
        "id": "sURtCww6naCs",
        "outputId": "d0b0817a-6bb0-446a-b4ad-bc38041fddbe"
      },
      "source": [
        "df_final.head()"
      ],
      "execution_count": 315,
      "outputs": [
        {
          "output_type": "execute_result",
          "data": {
            "text/html": [
              "<div>\n",
              "<style scoped>\n",
              "    .dataframe tbody tr th:only-of-type {\n",
              "        vertical-align: middle;\n",
              "    }\n",
              "\n",
              "    .dataframe tbody tr th {\n",
              "        vertical-align: top;\n",
              "    }\n",
              "\n",
              "    .dataframe thead th {\n",
              "        text-align: right;\n",
              "    }\n",
              "</style>\n",
              "<table border=\"1\" class=\"dataframe\">\n",
              "  <thead>\n",
              "    <tr style=\"text-align: right;\">\n",
              "      <th></th>\n",
              "      <th>id</th>\n",
              "      <th>text</th>\n",
              "      <th>ch/ts</th>\n",
              "      <th>clean_text</th>\n",
              "      <th>n_grams</th>\n",
              "      <th>relevant_n_grams</th>\n",
              "      <th>n_counters</th>\n",
              "      <th>relevant_counters</th>\n",
              "      <th>ts/ch ratio</th>\n",
              "      <th>ts_pos</th>\n",
              "      <th>ch_pos</th>\n",
              "      <th>rel_pos</th>\n",
              "    </tr>\n",
              "  </thead>\n",
              "  <tbody>\n",
              "    <tr>\n",
              "      <th>0</th>\n",
              "      <td>11</td>\n",
              "      <td>{по}поклонъ ѿ смешка фоми цо оставиле воць коз...</td>\n",
              "      <td>ts</td>\n",
              "      <td>[цо, воць]</td>\n",
              "      <td>[{по, по}, о}п, }по, пок, окл, кло, лон, онъ, ...</td>\n",
              "      <td>[цо, воц, оць]</td>\n",
              "      <td>{' да': 0, 'ѿ с': 1, 'ь к': 2, 'ъ) ': 3, 'ъ ѿ'...</td>\n",
              "      <td>[(оць, 18), (воц, 55)]</td>\n",
              "      <td>0.0</td>\n",
              "      <td>1.0</td>\n",
              "      <td>0.0</td>\n",
              "      <td>1.0</td>\n",
              "    </tr>\n",
              "    <tr>\n",
              "      <th>1</th>\n",
              "      <td>14</td>\n",
              "      <td>слово добро ѿ фомѣ к ѥсифу цто позвалъ тебе • ...</td>\n",
              "      <td>ts</td>\n",
              "      <td>[цто]</td>\n",
              "      <td>[сло, лов, ово, во , о д,  до, доб, обр, бро, ...</td>\n",
              "      <td>[цто]</td>\n",
              "      <td>{'• с': 0, 'ѿ ф': 1, 'ѥси': 2, 'ѣт[': 3, 'ѣ с'...</td>\n",
              "      <td>[(цто, 8)]</td>\n",
              "      <td>0.0</td>\n",
              "      <td>0.0</td>\n",
              "      <td>0.0</td>\n",
              "      <td>0.0</td>\n",
              "    </tr>\n",
              "    <tr>\n",
              "      <th>2</th>\n",
              "      <td>154</td>\n",
              "      <td>воспросилѣ правищикѣ ꙩманта ростѧгалесь фипе с...</td>\n",
              "      <td>ts</td>\n",
              "      <td>[цюле, сочкми]</td>\n",
              "      <td>[вос, осп, спр, про, рос, оси, сил, илѣ, лѣ , ...</td>\n",
              "      <td>[цюл, соч, очк, чк]</td>\n",
              "      <td>{'омъ': 0, 'мъ ': 1, ' и ': 2, 'ъ и': 3, 'тои'...</td>\n",
              "      <td>[(чк, 74), (цюл, 75), (соч, 89), (очк, 108)]</td>\n",
              "      <td>1.0</td>\n",
              "      <td>0.0</td>\n",
              "      <td>2.0</td>\n",
              "      <td>1.0</td>\n",
              "    </tr>\n",
              "    <tr>\n",
              "      <th>3</th>\n",
              "      <td>242</td>\n",
              "      <td>цолобитьѥ ѿ кощѣꙗ • и ꙩѿтъ половниковъ : у ког...</td>\n",
              "      <td>ts</td>\n",
              "      <td>[цолобитьѥ]</td>\n",
              "      <td>[цол, оло, лоб, оби, бит, ить, тьѥ, ьѥ , ѥ ѿ, ...</td>\n",
              "      <td>[цол]</td>\n",
              "      <td>{' • ': 0, 'шь ': 1, 'оло': 2, ' ко': 3, ' а '...</td>\n",
              "      <td>[(цол, 54)]</td>\n",
              "      <td>0.0</td>\n",
              "      <td>0.0</td>\n",
              "      <td>0.0</td>\n",
              "      <td>0.0</td>\n",
              "    </tr>\n",
              "    <tr>\n",
              "      <th>4</th>\n",
              "      <td>243</td>\n",
              "      <td>поклонъ ѿ сменка ѿ корѣлина пришле ~гнет кобѣ ...</td>\n",
              "      <td>ts</td>\n",
              "      <td>[цимъ, цоломъ]</td>\n",
              "      <td>[пок, окл, кло, лон, онъ, нъ , ъ ѿ,  ѿ , ѿ с, ...</td>\n",
              "      <td>[цим, цол]</td>\n",
              "      <td>{'на ': 0, 'при': 1, 'обѣ': 2, 'мъ ': 3, 'во '...</td>\n",
              "      <td>[(цол, 35), (цим, 36)]</td>\n",
              "      <td>0.0</td>\n",
              "      <td>0.0</td>\n",
              "      <td>0.0</td>\n",
              "      <td>0.0</td>\n",
              "    </tr>\n",
              "  </tbody>\n",
              "</table>\n",
              "</div>"
            ],
            "text/plain": [
              "    id                                               text  ... ch_pos rel_pos\n",
              "0   11  {по}поклонъ ѿ смешка фоми цо оставиле воць коз...  ...    0.0     1.0\n",
              "1   14  слово добро ѿ фомѣ к ѥсифу цто позвалъ тебе • ...  ...    0.0     0.0\n",
              "2  154  воспросилѣ правищикѣ ꙩманта ростѧгалесь фипе с...  ...    2.0     1.0\n",
              "3  242  цолобитьѥ ѿ кощѣꙗ • и ꙩѿтъ половниковъ : у ког...  ...    0.0     0.0\n",
              "4  243  поклонъ ѿ сменка ѿ корѣлина пришле ~гнет кобѣ ...  ...    0.0     0.0\n",
              "\n",
              "[5 rows x 12 columns]"
            ]
          },
          "metadata": {},
          "execution_count": 315
        }
      ]
    },
    {
      "cell_type": "code",
      "metadata": {
        "id": "O63VhRwzpKig"
      },
      "source": [
        "ts_dataset = df_final[df_final[\"ch/ts\"] == \"ts\"]\n",
        "ch_dataset = df_final[df_final[\"ch/ts\"] == \"ch\"]"
      ],
      "execution_count": 316,
      "outputs": []
    },
    {
      "cell_type": "code",
      "metadata": {
        "colab": {
          "base_uri": "https://localhost:8080/"
        },
        "id": "Shtfc8-CqVCI",
        "outputId": "f6e423d0-27f4-4877-b605-4f65f4fa2c70"
      },
      "source": [
        "print(f'Overall mean ts/ch ratio is {np.mean(df_final[\"ts/ch ratio\"])}')\n",
        "print(f'Ts mean ts/ch ratio is {np.mean(ts_dataset[\"ts/ch ratio\"])}')\n",
        "print(f'Ch mean ts/ch ratio is {np.mean(ch_dataset[\"ts/ch ratio\"])}')"
      ],
      "execution_count": 317,
      "outputs": [
        {
          "output_type": "stream",
          "name": "stdout",
          "text": [
            "Overall mean ts/ch ratio is 0.4166666666666667\n",
            "Ts mean ts/ch ratio is 0.2\n",
            "Ch mean ts/ch ratio is 0.6333333333333334\n"
          ]
        }
      ]
    },
    {
      "cell_type": "code",
      "metadata": {
        "colab": {
          "base_uri": "https://localhost:8080/"
        },
        "id": "TguKsuWhqlXZ",
        "outputId": "318ae99d-621e-4e28-956c-40e02055b7d9"
      },
      "source": [
        "print(f'Overall mean ts position ratio is {np.mean(df_final[\"ts_pos\"])}')\n",
        "print(f'Ts mean ts position ratio is {np.mean(ts_dataset[\"ts_pos\"])}')\n",
        "print(f'Ch mean ts position ratio is {np.mean(ch_dataset[\"ts_pos\"])}')"
      ],
      "execution_count": 318,
      "outputs": [
        {
          "output_type": "stream",
          "name": "stdout",
          "text": [
            "Overall mean ts position ratio is 1.4\n",
            "Ts mean ts position ratio is 0.2\n",
            "Ch mean ts position ratio is 2.6\n"
          ]
        }
      ]
    },
    {
      "cell_type": "code",
      "metadata": {
        "colab": {
          "base_uri": "https://localhost:8080/"
        },
        "id": "ABt94F2crQPo",
        "outputId": "5432293c-9c9e-4b01-d37a-198c76cf7777"
      },
      "source": [
        "print(f'Overall mean ch position ratio is {np.mean(df_final[\"ch_pos\"])}')\n",
        "print(f'Ts mean ch position ratio is {np.mean(ts_dataset[\"ch_pos\"])}')\n",
        "print(f'Ch mean ch position ratio is {np.mean(ch_dataset[\"ch_pos\"])}')"
      ],
      "execution_count": 319,
      "outputs": [
        {
          "output_type": "stream",
          "name": "stdout",
          "text": [
            "Overall mean ch position ratio is 1.5416666666666665\n",
            "Ts mean ch position ratio is 0.4\n",
            "Ch mean ch position ratio is 2.683333333333333\n"
          ]
        }
      ]
    },
    {
      "cell_type": "code",
      "metadata": {
        "colab": {
          "base_uri": "https://localhost:8080/"
        },
        "id": "P9htIutWrgD5",
        "outputId": "1b08cbfd-0ece-4e7e-e4a3-44d126935603"
      },
      "source": [
        "print(f'Overall mean ch/ts position ratio is {np.mean(df_final[\"rel_pos\"])}')\n",
        "print(f'Ts mean ch/ts position ratio is {np.mean(ts_dataset[\"rel_pos\"])}')\n",
        "print(f'Ch mean ch/ts position ratio is {np.mean(ch_dataset[\"rel_pos\"])}')"
      ],
      "execution_count": 320,
      "outputs": [
        {
          "output_type": "stream",
          "name": "stdout",
          "text": [
            "Overall mean ch/ts position ratio is 2.0666666666666664\n",
            "Ts mean ch/ts position ratio is 0.4\n",
            "Ch mean ch/ts position ratio is 3.733333333333333\n"
          ]
        }
      ]
    },
    {
      "cell_type": "code",
      "metadata": {
        "id": "Ovqzkv2Pvt9k"
      },
      "source": [
        "def get_only(text, letter):\n",
        "  return letter in text"
      ],
      "execution_count": 321,
      "outputs": []
    },
    {
      "cell_type": "code",
      "metadata": {
        "colab": {
          "base_uri": "https://localhost:8080/"
        },
        "id": "Eknkrx8txVhO",
        "outputId": "80f6c4ed-6bb7-4f06-8075-49d6de00fe53"
      },
      "source": [
        "df_final[\"ch/ts_fin\"] = df_final[\"text\"].apply(lambda x: get_only(x, \"ц\"))\n",
        "ts_dataset_prem = df_final[df_final[\"ch/ts_fin\"] == True]\n",
        "ch_dataset_prem = df_final[df_final[\"ch/ts_fin\"] == False]\n",
        "ts_dataset_prem[\"ch/ts_fin\"] =  ts_dataset_prem[\"text\"].apply(lambda x: get_only(x, \"ч\"))\n",
        "ch_dataset_prem[\"ch/ts_fin\"] = ch_dataset_prem[\"text\"].apply(lambda x: get_only(x, \"ц\"))\n",
        "all_dataset_1 = ts_dataset_prem[ts_dataset_prem[\"ch/ts_fin\"] == True]\n",
        "all_dataset_2 = ch_dataset_prem[ch_dataset_prem[\"ch/ts_fin\"] == True]\n",
        "ts_fin = ts_dataset_prem[ts_dataset_prem[\"ch/ts_fin\"] == False]\n",
        "ch_fin = ch_dataset_prem[ch_dataset_prem[\"ch/ts_fin\"] == False]\n",
        "ts_ch_dataset = pd.concat([all_dataset_1, all_dataset_2])"
      ],
      "execution_count": 322,
      "outputs": [
        {
          "output_type": "stream",
          "name": "stderr",
          "text": [
            "/usr/local/lib/python3.7/dist-packages/ipykernel_launcher.py:4: SettingWithCopyWarning: \n",
            "A value is trying to be set on a copy of a slice from a DataFrame.\n",
            "Try using .loc[row_indexer,col_indexer] = value instead\n",
            "\n",
            "See the caveats in the documentation: https://pandas.pydata.org/pandas-docs/stable/user_guide/indexing.html#returning-a-view-versus-a-copy\n",
            "  after removing the cwd from sys.path.\n",
            "/usr/local/lib/python3.7/dist-packages/ipykernel_launcher.py:5: SettingWithCopyWarning: \n",
            "A value is trying to be set on a copy of a slice from a DataFrame.\n",
            "Try using .loc[row_indexer,col_indexer] = value instead\n",
            "\n",
            "See the caveats in the documentation: https://pandas.pydata.org/pandas-docs/stable/user_guide/indexing.html#returning-a-view-versus-a-copy\n",
            "  \"\"\"\n"
          ]
        }
      ]
    },
    {
      "cell_type": "code",
      "metadata": {
        "colab": {
          "base_uri": "https://localhost:8080/",
          "height": 258
        },
        "id": "Y79qiAZI1kXO",
        "outputId": "1890b753-f5ce-4d29-aa94-e3fa188f8d3b"
      },
      "source": [
        "ts_ch_dataset.head()"
      ],
      "execution_count": 323,
      "outputs": [
        {
          "output_type": "execute_result",
          "data": {
            "text/html": [
              "<div>\n",
              "<style scoped>\n",
              "    .dataframe tbody tr th:only-of-type {\n",
              "        vertical-align: middle;\n",
              "    }\n",
              "\n",
              "    .dataframe tbody tr th {\n",
              "        vertical-align: top;\n",
              "    }\n",
              "\n",
              "    .dataframe thead th {\n",
              "        text-align: right;\n",
              "    }\n",
              "</style>\n",
              "<table border=\"1\" class=\"dataframe\">\n",
              "  <thead>\n",
              "    <tr style=\"text-align: right;\">\n",
              "      <th></th>\n",
              "      <th>id</th>\n",
              "      <th>text</th>\n",
              "      <th>ch/ts</th>\n",
              "      <th>clean_text</th>\n",
              "      <th>n_grams</th>\n",
              "      <th>relevant_n_grams</th>\n",
              "      <th>n_counters</th>\n",
              "      <th>relevant_counters</th>\n",
              "      <th>ts/ch ratio</th>\n",
              "      <th>ts_pos</th>\n",
              "      <th>ch_pos</th>\n",
              "      <th>rel_pos</th>\n",
              "      <th>ch/ts_fin</th>\n",
              "    </tr>\n",
              "  </thead>\n",
              "  <tbody>\n",
              "    <tr>\n",
              "      <th>2</th>\n",
              "      <td>154</td>\n",
              "      <td>воспросилѣ правищикѣ ꙩманта ростѧгалесь фипе с...</td>\n",
              "      <td>ts</td>\n",
              "      <td>[цюле, сочкми]</td>\n",
              "      <td>[вос, осп, спр, про, рос, оси, сил, илѣ, лѣ , ...</td>\n",
              "      <td>[цюл, соч, очк, чк]</td>\n",
              "      <td>{'омъ': 0, 'мъ ': 1, ' и ': 2, 'ъ и': 3, 'тои'...</td>\n",
              "      <td>[(чк, 74), (цюл, 75), (соч, 89), (очк, 108)]</td>\n",
              "      <td>1.000000</td>\n",
              "      <td>0.0</td>\n",
              "      <td>2.000000</td>\n",
              "      <td>1.000000</td>\n",
              "      <td>True</td>\n",
              "    </tr>\n",
              "    <tr>\n",
              "      <th>1</th>\n",
              "      <td>303</td>\n",
              "      <td>приказъ ѿ ꙩ̈ндрѣꙗна михаїлович ∙ к пуцнѣ здѣсе...</td>\n",
              "      <td>ch</td>\n",
              "      <td>[михаїлович, пуцнѣ, че[ломъ]]</td>\n",
              "      <td>[при, рик, ика, каз, азъ, зъ , ъ ѿ,  ѿ , ѿ ꙩ, ...</td>\n",
              "      <td>[вич, пуц, уцн, цнѣ, че[]</td>\n",
              "      <td>{' ми': 0, 'ꙩ̈н': 1, 'ꙗна': 2, '∙ к': 3, 'ѿ ꙩ'...</td>\n",
              "      <td>[(че[, 12), (цнѣ, 14), (уцн, 16), (пуц, 20), (...</td>\n",
              "      <td>0.500000</td>\n",
              "      <td>2.0</td>\n",
              "      <td>4.500000</td>\n",
              "      <td>3.666667</td>\n",
              "      <td>True</td>\n",
              "    </tr>\n",
              "    <tr>\n",
              "      <th>2</th>\n",
              "      <td>307</td>\n",
              "      <td>ѻсподѣну ꙩнд(рѣѧ)[н]у михаиловицю ꙩспо[д](ѣ)ну...</td>\n",
              "      <td>ch</td>\n",
              "      <td>[михаиловицю, михаилоцю, чоломъ, позовницѣ, {п...</td>\n",
              "      <td>[ѻсп, спо, под, одѣ, дѣн, ѣну, ну , у ꙩ,  ꙩн, ...</td>\n",
              "      <td>[виц, ицю, лоц, оцю, чол, ниц, ицѣ, ниц, ици, ...</td>\n",
              "      <td>{'спо': 0, 'ꙩсп': 1, ' ꙩс': 2, 'сѧ ': 3, 'под'...</td>\n",
              "      <td>[(ниц, 17), (чол, 50), (ици, 70), (чат, 133), ...</td>\n",
              "      <td>1.666667</td>\n",
              "      <td>8.0</td>\n",
              "      <td>0.666667</td>\n",
              "      <td>5.250000</td>\n",
              "      <td>True</td>\n",
              "    </tr>\n",
              "    <tr>\n",
              "      <th>4</th>\n",
              "      <td>97</td>\n",
              "      <td>~гну ∙ юрию ∙ челомъ бѣѥ ∙ [ѡ]ртьмъка и дѣица ...</td>\n",
              "      <td>ch</td>\n",
              "      <td>[челомъ, дѣица]</td>\n",
              "      <td>[~гн, гну, ну , у ∙,  ∙ , ∙ ю,  юр, юри, рию, ...</td>\n",
              "      <td>[чел, ѣиц, ица]</td>\n",
              "      <td>{' ∙ ': 0, '∙ ю': 1, '∙ ч': 2, '∙ п': 3, '∙ ['...</td>\n",
              "      <td>[(ѣиц, 7), (чел, 17), (ица, 38)]</td>\n",
              "      <td>1.000000</td>\n",
              "      <td>3.0</td>\n",
              "      <td>0.000000</td>\n",
              "      <td>1.500000</td>\n",
              "      <td>True</td>\n",
              "    </tr>\n",
              "  </tbody>\n",
              "</table>\n",
              "</div>"
            ],
            "text/plain": [
              "    id                                               text  ...   rel_pos ch/ts_fin\n",
              "2  154  воспросилѣ правищикѣ ꙩманта ростѧгалесь фипе с...  ...  1.000000      True\n",
              "1  303  приказъ ѿ ꙩ̈ндрѣꙗна михаїлович ∙ к пуцнѣ здѣсе...  ...  3.666667      True\n",
              "2  307  ѻсподѣну ꙩнд(рѣѧ)[н]у михаиловицю ꙩспо[д](ѣ)ну...  ...  5.250000      True\n",
              "4   97  ~гну ∙ юрию ∙ челомъ бѣѥ ∙ [ѡ]ртьмъка и дѣица ...  ...  1.500000      True\n",
              "\n",
              "[4 rows x 13 columns]"
            ]
          },
          "metadata": {},
          "execution_count": 323
        }
      ]
    },
    {
      "cell_type": "code",
      "metadata": {
        "colab": {
          "base_uri": "https://localhost:8080/",
          "height": 258
        },
        "id": "DqditG46xseh",
        "outputId": "2cb0bf34-19c9-45dc-998c-34e71026ee9a"
      },
      "source": [
        "ts_fin.head()"
      ],
      "execution_count": 324,
      "outputs": [
        {
          "output_type": "execute_result",
          "data": {
            "text/html": [
              "<div>\n",
              "<style scoped>\n",
              "    .dataframe tbody tr th:only-of-type {\n",
              "        vertical-align: middle;\n",
              "    }\n",
              "\n",
              "    .dataframe tbody tr th {\n",
              "        vertical-align: top;\n",
              "    }\n",
              "\n",
              "    .dataframe thead th {\n",
              "        text-align: right;\n",
              "    }\n",
              "</style>\n",
              "<table border=\"1\" class=\"dataframe\">\n",
              "  <thead>\n",
              "    <tr style=\"text-align: right;\">\n",
              "      <th></th>\n",
              "      <th>id</th>\n",
              "      <th>text</th>\n",
              "      <th>ch/ts</th>\n",
              "      <th>clean_text</th>\n",
              "      <th>n_grams</th>\n",
              "      <th>relevant_n_grams</th>\n",
              "      <th>n_counters</th>\n",
              "      <th>relevant_counters</th>\n",
              "      <th>ts/ch ratio</th>\n",
              "      <th>ts_pos</th>\n",
              "      <th>ch_pos</th>\n",
              "      <th>rel_pos</th>\n",
              "      <th>ch/ts_fin</th>\n",
              "    </tr>\n",
              "  </thead>\n",
              "  <tbody>\n",
              "    <tr>\n",
              "      <th>0</th>\n",
              "      <td>11</td>\n",
              "      <td>{по}поклонъ ѿ смешка фоми цо оставиле воць коз...</td>\n",
              "      <td>ts</td>\n",
              "      <td>[цо, воць]</td>\n",
              "      <td>[{по, по}, о}п, }по, пок, окл, кло, лон, онъ, ...</td>\n",
              "      <td>[цо, воц, оць]</td>\n",
              "      <td>{' да': 0, 'ѿ с': 1, 'ь к': 2, 'ъ) ': 3, 'ъ ѿ'...</td>\n",
              "      <td>[(оць, 18), (воц, 55)]</td>\n",
              "      <td>0.0</td>\n",
              "      <td>1.0</td>\n",
              "      <td>0.0</td>\n",
              "      <td>1.0</td>\n",
              "      <td>False</td>\n",
              "    </tr>\n",
              "    <tr>\n",
              "      <th>1</th>\n",
              "      <td>14</td>\n",
              "      <td>слово добро ѿ фомѣ к ѥсифу цто позвалъ тебе • ...</td>\n",
              "      <td>ts</td>\n",
              "      <td>[цто]</td>\n",
              "      <td>[сло, лов, ово, во , о д,  до, доб, обр, бро, ...</td>\n",
              "      <td>[цто]</td>\n",
              "      <td>{'• с': 0, 'ѿ ф': 1, 'ѥси': 2, 'ѣт[': 3, 'ѣ с'...</td>\n",
              "      <td>[(цто, 8)]</td>\n",
              "      <td>0.0</td>\n",
              "      <td>0.0</td>\n",
              "      <td>0.0</td>\n",
              "      <td>0.0</td>\n",
              "      <td>False</td>\n",
              "    </tr>\n",
              "    <tr>\n",
              "      <th>3</th>\n",
              "      <td>242</td>\n",
              "      <td>цолобитьѥ ѿ кощѣꙗ • и ꙩѿтъ половниковъ : у ког...</td>\n",
              "      <td>ts</td>\n",
              "      <td>[цолобитьѥ]</td>\n",
              "      <td>[цол, оло, лоб, оби, бит, ить, тьѥ, ьѥ , ѥ ѿ, ...</td>\n",
              "      <td>[цол]</td>\n",
              "      <td>{' • ': 0, 'шь ': 1, 'оло': 2, ' ко': 3, ' а '...</td>\n",
              "      <td>[(цол, 54)]</td>\n",
              "      <td>0.0</td>\n",
              "      <td>0.0</td>\n",
              "      <td>0.0</td>\n",
              "      <td>0.0</td>\n",
              "      <td>False</td>\n",
              "    </tr>\n",
              "    <tr>\n",
              "      <th>4</th>\n",
              "      <td>243</td>\n",
              "      <td>поклонъ ѿ сменка ѿ корѣлина пришле ~гнет кобѣ ...</td>\n",
              "      <td>ts</td>\n",
              "      <td>[цимъ, цоломъ]</td>\n",
              "      <td>[пок, окл, кло, лон, онъ, нъ , ъ ѿ,  ѿ , ѿ с, ...</td>\n",
              "      <td>[цим, цол]</td>\n",
              "      <td>{'на ': 0, 'при': 1, 'обѣ': 2, 'мъ ': 3, 'во '...</td>\n",
              "      <td>[(цол, 35), (цим, 36)]</td>\n",
              "      <td>0.0</td>\n",
              "      <td>0.0</td>\n",
              "      <td>0.0</td>\n",
              "      <td>0.0</td>\n",
              "      <td>False</td>\n",
              "    </tr>\n",
              "  </tbody>\n",
              "</table>\n",
              "</div>"
            ],
            "text/plain": [
              "    id                                               text  ... rel_pos ch/ts_fin\n",
              "0   11  {по}поклонъ ѿ смешка фоми цо оставиле воць коз...  ...     1.0     False\n",
              "1   14  слово добро ѿ фомѣ к ѥсифу цто позвалъ тебе • ...  ...     0.0     False\n",
              "3  242  цолобитьѥ ѿ кощѣꙗ • и ꙩѿтъ половниковъ : у ког...  ...     0.0     False\n",
              "4  243  поклонъ ѿ сменка ѿ корѣлина пришле ~гнет кобѣ ...  ...     0.0     False\n",
              "\n",
              "[4 rows x 13 columns]"
            ]
          },
          "metadata": {},
          "execution_count": 324
        }
      ]
    },
    {
      "cell_type": "code",
      "metadata": {
        "colab": {
          "base_uri": "https://localhost:8080/",
          "height": 162
        },
        "id": "A3GrZEZ70ZDn",
        "outputId": "9825e2d7-5b65-4ce7-8d34-1c547e2663a7"
      },
      "source": [
        "ch_fin.head()"
      ],
      "execution_count": 325,
      "outputs": [
        {
          "output_type": "execute_result",
          "data": {
            "text/html": [
              "<div>\n",
              "<style scoped>\n",
              "    .dataframe tbody tr th:only-of-type {\n",
              "        vertical-align: middle;\n",
              "    }\n",
              "\n",
              "    .dataframe tbody tr th {\n",
              "        vertical-align: top;\n",
              "    }\n",
              "\n",
              "    .dataframe thead th {\n",
              "        text-align: right;\n",
              "    }\n",
              "</style>\n",
              "<table border=\"1\" class=\"dataframe\">\n",
              "  <thead>\n",
              "    <tr style=\"text-align: right;\">\n",
              "      <th></th>\n",
              "      <th>id</th>\n",
              "      <th>text</th>\n",
              "      <th>ch/ts</th>\n",
              "      <th>clean_text</th>\n",
              "      <th>n_grams</th>\n",
              "      <th>relevant_n_grams</th>\n",
              "      <th>n_counters</th>\n",
              "      <th>relevant_counters</th>\n",
              "      <th>ts/ch ratio</th>\n",
              "      <th>ts_pos</th>\n",
              "      <th>ch_pos</th>\n",
              "      <th>rel_pos</th>\n",
              "      <th>ch/ts_fin</th>\n",
              "    </tr>\n",
              "  </thead>\n",
              "  <tbody>\n",
              "    <tr>\n",
              "      <th>0</th>\n",
              "      <td>302</td>\n",
              "      <td>… (ꙩсподи)не [∙] за ѧковом (∙) за по[сад](ник...</td>\n",
              "      <td>ch</td>\n",
              "      <td>[-----(-)вичомы, попечалуѥшь, чо, (челомъ]</td>\n",
              "      <td>[… (,  (ꙩ, (ꙩс, ꙩсп, спо, под, оди, ди), и)н, ...</td>\n",
              "      <td>[вич, ичо, чом, печ, еча, чал, чо, (че, чел]</td>\n",
              "      <td>{' ∙ ': 0, 'оди': 1, 'ꙩсп': 2, '∙ ꙩ': 3, 'ѧ ∙'...</td>\n",
              "      <td>[(чом, 51), (чел, 53), (чал, 54), (печ, 68), (...</td>\n",
              "      <td>0.0</td>\n",
              "      <td>0.0</td>\n",
              "      <td>3.75</td>\n",
              "      <td>3.75</td>\n",
              "      <td>False</td>\n",
              "    </tr>\n",
              "    <tr>\n",
              "      <th>3</th>\n",
              "      <td>15</td>\n",
              "      <td>члбтьѥ (ѿ) нестерка гну ивану борисо(вичу) (…...</td>\n",
              "      <td>ch</td>\n",
              "      <td>[члбтьѥ, борисо(вичу)]</td>\n",
              "      <td>[члб, лбт, бть, тьѥ, ьѥ , ѥ (,  (ѿ, (ѿ), ѿ) , ...</td>\n",
              "      <td>[члб, вич, ичу, чу)]</td>\n",
              "      <td>{'(…)': 0, ' (…': 1, '…) ': 2, 'гн': 3, ') ('...</td>\n",
              "      <td>[(чу), 14), (члб, 15), (ичу, 40), (вич, 48)]</td>\n",
              "      <td>0.0</td>\n",
              "      <td>0.0</td>\n",
              "      <td>4.50</td>\n",
              "      <td>4.50</td>\n",
              "      <td>False</td>\n",
              "    </tr>\n",
              "  </tbody>\n",
              "</table>\n",
              "</div>"
            ],
            "text/plain": [
              "    id                                               text  ... rel_pos ch/ts_fin\n",
              "0  302  … (ꙩсподи)не [∙] за ѧковом (∙) за по[сад](ник...  ...    3.75     False\n",
              "3   15  члбтьѥ (ѿ) нестерка гну ивану борисо(вичу) (…...  ...    4.50     False\n",
              "\n",
              "[2 rows x 13 columns]"
            ]
          },
          "metadata": {},
          "execution_count": 325
        }
      ]
    },
    {
      "cell_type": "code",
      "metadata": {
        "id": "8eRUHP77rlwn"
      },
      "source": [
        "ts_ch_dataset[\"ch/ts\"] = \"mix\"  "
      ],
      "execution_count": 326,
      "outputs": []
    },
    {
      "cell_type": "code",
      "metadata": {
        "colab": {
          "base_uri": "https://localhost:8080/",
          "height": 258
        },
        "id": "MT37V8VKEo_m",
        "outputId": "a4a9f7f7-79e0-44fa-cd74-233437488432"
      },
      "source": [
        "ts_ch_dataset.head()"
      ],
      "execution_count": 327,
      "outputs": [
        {
          "output_type": "execute_result",
          "data": {
            "text/html": [
              "<div>\n",
              "<style scoped>\n",
              "    .dataframe tbody tr th:only-of-type {\n",
              "        vertical-align: middle;\n",
              "    }\n",
              "\n",
              "    .dataframe tbody tr th {\n",
              "        vertical-align: top;\n",
              "    }\n",
              "\n",
              "    .dataframe thead th {\n",
              "        text-align: right;\n",
              "    }\n",
              "</style>\n",
              "<table border=\"1\" class=\"dataframe\">\n",
              "  <thead>\n",
              "    <tr style=\"text-align: right;\">\n",
              "      <th></th>\n",
              "      <th>id</th>\n",
              "      <th>text</th>\n",
              "      <th>ch/ts</th>\n",
              "      <th>clean_text</th>\n",
              "      <th>n_grams</th>\n",
              "      <th>relevant_n_grams</th>\n",
              "      <th>n_counters</th>\n",
              "      <th>relevant_counters</th>\n",
              "      <th>ts/ch ratio</th>\n",
              "      <th>ts_pos</th>\n",
              "      <th>ch_pos</th>\n",
              "      <th>rel_pos</th>\n",
              "      <th>ch/ts_fin</th>\n",
              "    </tr>\n",
              "  </thead>\n",
              "  <tbody>\n",
              "    <tr>\n",
              "      <th>2</th>\n",
              "      <td>154</td>\n",
              "      <td>воспросилѣ правищикѣ ꙩманта ростѧгалесь фипе с...</td>\n",
              "      <td>mix</td>\n",
              "      <td>[цюле, сочкми]</td>\n",
              "      <td>[вос, осп, спр, про, рос, оси, сил, илѣ, лѣ , ...</td>\n",
              "      <td>[цюл, соч, очк, чк]</td>\n",
              "      <td>{'омъ': 0, 'мъ ': 1, ' и ': 2, 'ъ и': 3, 'тои'...</td>\n",
              "      <td>[(чк, 74), (цюл, 75), (соч, 89), (очк, 108)]</td>\n",
              "      <td>1.000000</td>\n",
              "      <td>0.0</td>\n",
              "      <td>2.000000</td>\n",
              "      <td>1.000000</td>\n",
              "      <td>True</td>\n",
              "    </tr>\n",
              "    <tr>\n",
              "      <th>1</th>\n",
              "      <td>303</td>\n",
              "      <td>приказъ ѿ ꙩ̈ндрѣꙗна михаїлович ∙ к пуцнѣ здѣсе...</td>\n",
              "      <td>mix</td>\n",
              "      <td>[михаїлович, пуцнѣ, че[ломъ]]</td>\n",
              "      <td>[при, рик, ика, каз, азъ, зъ , ъ ѿ,  ѿ , ѿ ꙩ, ...</td>\n",
              "      <td>[вич, пуц, уцн, цнѣ, че[]</td>\n",
              "      <td>{' ми': 0, 'ꙩ̈н': 1, 'ꙗна': 2, '∙ к': 3, 'ѿ ꙩ'...</td>\n",
              "      <td>[(че[, 12), (цнѣ, 14), (уцн, 16), (пуц, 20), (...</td>\n",
              "      <td>0.500000</td>\n",
              "      <td>2.0</td>\n",
              "      <td>4.500000</td>\n",
              "      <td>3.666667</td>\n",
              "      <td>True</td>\n",
              "    </tr>\n",
              "    <tr>\n",
              "      <th>2</th>\n",
              "      <td>307</td>\n",
              "      <td>ѻсподѣну ꙩнд(рѣѧ)[н]у михаиловицю ꙩспо[д](ѣ)ну...</td>\n",
              "      <td>mix</td>\n",
              "      <td>[михаиловицю, михаилоцю, чоломъ, позовницѣ, {п...</td>\n",
              "      <td>[ѻсп, спо, под, одѣ, дѣн, ѣну, ну , у ꙩ,  ꙩн, ...</td>\n",
              "      <td>[виц, ицю, лоц, оцю, чол, ниц, ицѣ, ниц, ици, ...</td>\n",
              "      <td>{'спо': 0, 'ꙩсп': 1, ' ꙩс': 2, 'сѧ ': 3, 'под'...</td>\n",
              "      <td>[(ниц, 17), (чол, 50), (ици, 70), (чат, 133), ...</td>\n",
              "      <td>1.666667</td>\n",
              "      <td>8.0</td>\n",
              "      <td>0.666667</td>\n",
              "      <td>5.250000</td>\n",
              "      <td>True</td>\n",
              "    </tr>\n",
              "    <tr>\n",
              "      <th>4</th>\n",
              "      <td>97</td>\n",
              "      <td>~гну ∙ юрию ∙ челомъ бѣѥ ∙ [ѡ]ртьмъка и дѣица ...</td>\n",
              "      <td>mix</td>\n",
              "      <td>[челомъ, дѣица]</td>\n",
              "      <td>[~гн, гну, ну , у ∙,  ∙ , ∙ ю,  юр, юри, рию, ...</td>\n",
              "      <td>[чел, ѣиц, ица]</td>\n",
              "      <td>{' ∙ ': 0, '∙ ю': 1, '∙ ч': 2, '∙ п': 3, '∙ ['...</td>\n",
              "      <td>[(ѣиц, 7), (чел, 17), (ица, 38)]</td>\n",
              "      <td>1.000000</td>\n",
              "      <td>3.0</td>\n",
              "      <td>0.000000</td>\n",
              "      <td>1.500000</td>\n",
              "      <td>True</td>\n",
              "    </tr>\n",
              "  </tbody>\n",
              "</table>\n",
              "</div>"
            ],
            "text/plain": [
              "    id                                               text  ...   rel_pos ch/ts_fin\n",
              "2  154  воспросилѣ правищикѣ ꙩманта ростѧгалесь фипе с...  ...  1.000000      True\n",
              "1  303  приказъ ѿ ꙩ̈ндрѣꙗна михаїлович ∙ к пуцнѣ здѣсе...  ...  3.666667      True\n",
              "2  307  ѻсподѣну ꙩнд(рѣѧ)[н]у михаиловицю ꙩспо[д](ѣ)ну...  ...  5.250000      True\n",
              "4   97  ~гну ∙ юрию ∙ челомъ бѣѥ ∙ [ѡ]ртьмъка и дѣица ...  ...  1.500000      True\n",
              "\n",
              "[4 rows x 13 columns]"
            ]
          },
          "metadata": {},
          "execution_count": 327
        }
      ]
    },
    {
      "cell_type": "code",
      "metadata": {
        "id": "6fZBwuIv3reB"
      },
      "source": [
        "ts_ch_dataset = ts_ch_dataset.drop(\"ch/ts_fin\", axis=1)\n",
        "ch_fin = ch_fin.drop(\"ch/ts_fin\", axis=1)\n",
        "ts_fin = ts_fin.drop(\"ch/ts_fin\", axis=1)\n",
        "df_final = pd.concat([ts_ch_dataset, ch_fin, ts_fin])"
      ],
      "execution_count": 328,
      "outputs": []
    },
    {
      "cell_type": "code",
      "metadata": {
        "colab": {
          "base_uri": "https://localhost:8080/",
          "height": 306
        },
        "id": "YaZlqErc37kB",
        "outputId": "147d36fc-d0d7-447f-e82a-58946233d459"
      },
      "source": [
        "df_final.head()"
      ],
      "execution_count": 329,
      "outputs": [
        {
          "output_type": "execute_result",
          "data": {
            "text/html": [
              "<div>\n",
              "<style scoped>\n",
              "    .dataframe tbody tr th:only-of-type {\n",
              "        vertical-align: middle;\n",
              "    }\n",
              "\n",
              "    .dataframe tbody tr th {\n",
              "        vertical-align: top;\n",
              "    }\n",
              "\n",
              "    .dataframe thead th {\n",
              "        text-align: right;\n",
              "    }\n",
              "</style>\n",
              "<table border=\"1\" class=\"dataframe\">\n",
              "  <thead>\n",
              "    <tr style=\"text-align: right;\">\n",
              "      <th></th>\n",
              "      <th>id</th>\n",
              "      <th>text</th>\n",
              "      <th>ch/ts</th>\n",
              "      <th>clean_text</th>\n",
              "      <th>n_grams</th>\n",
              "      <th>relevant_n_grams</th>\n",
              "      <th>n_counters</th>\n",
              "      <th>relevant_counters</th>\n",
              "      <th>ts/ch ratio</th>\n",
              "      <th>ts_pos</th>\n",
              "      <th>ch_pos</th>\n",
              "      <th>rel_pos</th>\n",
              "    </tr>\n",
              "  </thead>\n",
              "  <tbody>\n",
              "    <tr>\n",
              "      <th>2</th>\n",
              "      <td>154</td>\n",
              "      <td>воспросилѣ правищикѣ ꙩманта ростѧгалесь фипе с...</td>\n",
              "      <td>mix</td>\n",
              "      <td>[цюле, сочкми]</td>\n",
              "      <td>[вос, осп, спр, про, рос, оси, сил, илѣ, лѣ , ...</td>\n",
              "      <td>[цюл, соч, очк, чк]</td>\n",
              "      <td>{'омъ': 0, 'мъ ': 1, ' и ': 2, 'ъ и': 3, 'тои'...</td>\n",
              "      <td>[(чк, 74), (цюл, 75), (соч, 89), (очк, 108)]</td>\n",
              "      <td>1.000000</td>\n",
              "      <td>0.0</td>\n",
              "      <td>2.000000</td>\n",
              "      <td>1.000000</td>\n",
              "    </tr>\n",
              "    <tr>\n",
              "      <th>1</th>\n",
              "      <td>303</td>\n",
              "      <td>приказъ ѿ ꙩ̈ндрѣꙗна михаїлович ∙ к пуцнѣ здѣсе...</td>\n",
              "      <td>mix</td>\n",
              "      <td>[михаїлович, пуцнѣ, че[ломъ]]</td>\n",
              "      <td>[при, рик, ика, каз, азъ, зъ , ъ ѿ,  ѿ , ѿ ꙩ, ...</td>\n",
              "      <td>[вич, пуц, уцн, цнѣ, че[]</td>\n",
              "      <td>{' ми': 0, 'ꙩ̈н': 1, 'ꙗна': 2, '∙ к': 3, 'ѿ ꙩ'...</td>\n",
              "      <td>[(че[, 12), (цнѣ, 14), (уцн, 16), (пуц, 20), (...</td>\n",
              "      <td>0.500000</td>\n",
              "      <td>2.0</td>\n",
              "      <td>4.500000</td>\n",
              "      <td>3.666667</td>\n",
              "    </tr>\n",
              "    <tr>\n",
              "      <th>2</th>\n",
              "      <td>307</td>\n",
              "      <td>ѻсподѣну ꙩнд(рѣѧ)[н]у михаиловицю ꙩспо[д](ѣ)ну...</td>\n",
              "      <td>mix</td>\n",
              "      <td>[михаиловицю, михаилоцю, чоломъ, позовницѣ, {п...</td>\n",
              "      <td>[ѻсп, спо, под, одѣ, дѣн, ѣну, ну , у ꙩ,  ꙩн, ...</td>\n",
              "      <td>[виц, ицю, лоц, оцю, чол, ниц, ицѣ, ниц, ици, ...</td>\n",
              "      <td>{'спо': 0, 'ꙩсп': 1, ' ꙩс': 2, 'сѧ ': 3, 'под'...</td>\n",
              "      <td>[(ниц, 17), (чол, 50), (ици, 70), (чат, 133), ...</td>\n",
              "      <td>1.666667</td>\n",
              "      <td>8.0</td>\n",
              "      <td>0.666667</td>\n",
              "      <td>5.250000</td>\n",
              "    </tr>\n",
              "    <tr>\n",
              "      <th>4</th>\n",
              "      <td>97</td>\n",
              "      <td>~гну ∙ юрию ∙ челомъ бѣѥ ∙ [ѡ]ртьмъка и дѣица ...</td>\n",
              "      <td>mix</td>\n",
              "      <td>[челомъ, дѣица]</td>\n",
              "      <td>[~гн, гну, ну , у ∙,  ∙ , ∙ ю,  юр, юри, рию, ...</td>\n",
              "      <td>[чел, ѣиц, ица]</td>\n",
              "      <td>{' ∙ ': 0, '∙ ю': 1, '∙ ч': 2, '∙ п': 3, '∙ ['...</td>\n",
              "      <td>[(ѣиц, 7), (чел, 17), (ица, 38)]</td>\n",
              "      <td>1.000000</td>\n",
              "      <td>3.0</td>\n",
              "      <td>0.000000</td>\n",
              "      <td>1.500000</td>\n",
              "    </tr>\n",
              "    <tr>\n",
              "      <th>0</th>\n",
              "      <td>302</td>\n",
              "      <td>… (ꙩсподи)не [∙] за ѧковом (∙) за по[сад](ник...</td>\n",
              "      <td>ch</td>\n",
              "      <td>[-----(-)вичомы, попечалуѥшь, чо, (челомъ]</td>\n",
              "      <td>[… (,  (ꙩ, (ꙩс, ꙩсп, спо, под, оди, ди), и)н, ...</td>\n",
              "      <td>[вич, ичо, чом, печ, еча, чал, чо, (че, чел]</td>\n",
              "      <td>{' ∙ ': 0, 'оди': 1, 'ꙩсп': 2, '∙ ꙩ': 3, 'ѧ ∙'...</td>\n",
              "      <td>[(чом, 51), (чел, 53), (чал, 54), (печ, 68), (...</td>\n",
              "      <td>0.000000</td>\n",
              "      <td>0.0</td>\n",
              "      <td>3.750000</td>\n",
              "      <td>3.750000</td>\n",
              "    </tr>\n",
              "  </tbody>\n",
              "</table>\n",
              "</div>"
            ],
            "text/plain": [
              "    id                                               text  ...    ch_pos   rel_pos\n",
              "2  154  воспросилѣ правищикѣ ꙩманта ростѧгалесь фипе с...  ...  2.000000  1.000000\n",
              "1  303  приказъ ѿ ꙩ̈ндрѣꙗна михаїлович ∙ к пуцнѣ здѣсе...  ...  4.500000  3.666667\n",
              "2  307  ѻсподѣну ꙩнд(рѣѧ)[н]у михаиловицю ꙩспо[д](ѣ)ну...  ...  0.666667  5.250000\n",
              "4   97  ~гну ∙ юрию ∙ челомъ бѣѥ ∙ [ѡ]ртьмъка и дѣица ...  ...  0.000000  1.500000\n",
              "0  302  … (ꙩсподи)не [∙] за ѧковом (∙) за по[сад](ник...  ...  3.750000  3.750000\n",
              "\n",
              "[5 rows x 12 columns]"
            ]
          },
          "metadata": {},
          "execution_count": 329
        }
      ]
    },
    {
      "cell_type": "code",
      "metadata": {
        "id": "drvqUxtj4MUQ"
      },
      "source": [
        "df_for_graph = df_final.drop([\"text\", \"clean_text\", \"n_grams\", \"relevant_n_grams\", \"n_counters\", \"ts/ch ratio\", \"ts_pos\", \"ch_pos\", \"rel_pos\"], axis=1)"
      ],
      "execution_count": 330,
      "outputs": []
    },
    {
      "cell_type": "code",
      "metadata": {
        "colab": {
          "base_uri": "https://localhost:8080/",
          "height": 204
        },
        "id": "ZtnZHNbB4g0j",
        "outputId": "7b54b80b-42b9-4a6a-b1e1-a32d4adbf5c9"
      },
      "source": [
        "df_for_graph.head()"
      ],
      "execution_count": 331,
      "outputs": [
        {
          "output_type": "execute_result",
          "data": {
            "text/html": [
              "<div>\n",
              "<style scoped>\n",
              "    .dataframe tbody tr th:only-of-type {\n",
              "        vertical-align: middle;\n",
              "    }\n",
              "\n",
              "    .dataframe tbody tr th {\n",
              "        vertical-align: top;\n",
              "    }\n",
              "\n",
              "    .dataframe thead th {\n",
              "        text-align: right;\n",
              "    }\n",
              "</style>\n",
              "<table border=\"1\" class=\"dataframe\">\n",
              "  <thead>\n",
              "    <tr style=\"text-align: right;\">\n",
              "      <th></th>\n",
              "      <th>id</th>\n",
              "      <th>ch/ts</th>\n",
              "      <th>relevant_counters</th>\n",
              "    </tr>\n",
              "  </thead>\n",
              "  <tbody>\n",
              "    <tr>\n",
              "      <th>2</th>\n",
              "      <td>154</td>\n",
              "      <td>mix</td>\n",
              "      <td>[(чк, 74), (цюл, 75), (соч, 89), (очк, 108)]</td>\n",
              "    </tr>\n",
              "    <tr>\n",
              "      <th>1</th>\n",
              "      <td>303</td>\n",
              "      <td>mix</td>\n",
              "      <td>[(че[, 12), (цнѣ, 14), (уцн, 16), (пуц, 20), (...</td>\n",
              "    </tr>\n",
              "    <tr>\n",
              "      <th>2</th>\n",
              "      <td>307</td>\n",
              "      <td>mix</td>\n",
              "      <td>[(ниц, 17), (чол, 50), (ици, 70), (чат, 133), ...</td>\n",
              "    </tr>\n",
              "    <tr>\n",
              "      <th>4</th>\n",
              "      <td>97</td>\n",
              "      <td>mix</td>\n",
              "      <td>[(ѣиц, 7), (чел, 17), (ица, 38)]</td>\n",
              "    </tr>\n",
              "    <tr>\n",
              "      <th>0</th>\n",
              "      <td>302</td>\n",
              "      <td>ch</td>\n",
              "      <td>[(чом, 51), (чел, 53), (чал, 54), (печ, 68), (...</td>\n",
              "    </tr>\n",
              "  </tbody>\n",
              "</table>\n",
              "</div>"
            ],
            "text/plain": [
              "    id ch/ts                                  relevant_counters\n",
              "2  154   mix      [(чк, 74), (цюл, 75), (соч, 89), (очк, 108)]\n",
              "1  303   mix  [(че[, 12), (цнѣ, 14), (уцн, 16), (пуц, 20), (...\n",
              "2  307   mix  [(ниц, 17), (чол, 50), (ици, 70), (чат, 133), ...\n",
              "4   97   mix                   [(ѣиц, 7), (чел, 17), (ица, 38)]\n",
              "0  302    ch  [(чом, 51), (чел, 53), (чал, 54), (печ, 68), (..."
            ]
          },
          "metadata": {},
          "execution_count": 331
        }
      ]
    },
    {
      "cell_type": "code",
      "metadata": {
        "id": "wXSRygNqt46x"
      },
      "source": [
        "def dameraulevenshtein(s1, s2):\n",
        "    d = {}\n",
        "    lenstr1 = len(s1)\n",
        "    lenstr2 = len(s2)\n",
        "    for i in range(-1,lenstr1+1):\n",
        "        d[(i,-1)] = i+1\n",
        "    for j in range(-1,lenstr2+1):\n",
        "        d[(-1,j)] = j+1\n",
        "    for i in range(lenstr1):\n",
        "        for j in range(lenstr2):\n",
        "            if s1[i] == s2[j]:\n",
        "                cost = 0\n",
        "            else:\n",
        "                cost = 1\n",
        "            d[(i,j)] = min(\n",
        "                           d[(i-1,j)] + 1, # deletion\n",
        "                           d[(i,j-1)] + 1, # insertion\n",
        "                           d[(i-1,j-1)] + cost, # substitution\n",
        "                          )\n",
        "            if i and j and s1[i]==s2[j-1] and s1[i-1] == s2[j]:\n",
        "                d[(i,j)] = min (d[(i,j)], d[i-2,j-2] + cost) # transposition\n",
        "    return d[lenstr1-1,lenstr2-1] "
      ],
      "execution_count": 332,
      "outputs": []
    },
    {
      "cell_type": "code",
      "metadata": {
        "id": "ouiV-LgesTv3"
      },
      "source": [
        "G = nx.Graph()"
      ],
      "execution_count": 333,
      "outputs": []
    },
    {
      "cell_type": "code",
      "metadata": {
        "id": "mL39UocNuv0g"
      },
      "source": [
        "graph_ts = df_for_graph[df_for_graph[\"ch/ts\"] == \"ts\"]\n",
        "graph_ch = df_for_graph[df_for_graph[\"ch/ts\"] == \"ch\"]\n",
        "graph_mixed = df_for_graph[df_for_graph[\"ch/ts\"] == \"mix\"]"
      ],
      "execution_count": 334,
      "outputs": []
    },
    {
      "cell_type": "code",
      "metadata": {
        "colab": {
          "base_uri": "https://localhost:8080/",
          "height": 173
        },
        "id": "UQqyZN0vA1sP",
        "outputId": "de4a31fd-ce6c-4123-9dd5-80dc4a848882"
      },
      "source": [
        "graph_mixed.head()"
      ],
      "execution_count": 335,
      "outputs": [
        {
          "output_type": "execute_result",
          "data": {
            "text/html": [
              "<div>\n",
              "<style scoped>\n",
              "    .dataframe tbody tr th:only-of-type {\n",
              "        vertical-align: middle;\n",
              "    }\n",
              "\n",
              "    .dataframe tbody tr th {\n",
              "        vertical-align: top;\n",
              "    }\n",
              "\n",
              "    .dataframe thead th {\n",
              "        text-align: right;\n",
              "    }\n",
              "</style>\n",
              "<table border=\"1\" class=\"dataframe\">\n",
              "  <thead>\n",
              "    <tr style=\"text-align: right;\">\n",
              "      <th></th>\n",
              "      <th>id</th>\n",
              "      <th>ch/ts</th>\n",
              "      <th>relevant_counters</th>\n",
              "    </tr>\n",
              "  </thead>\n",
              "  <tbody>\n",
              "    <tr>\n",
              "      <th>2</th>\n",
              "      <td>154</td>\n",
              "      <td>mix</td>\n",
              "      <td>[(чк, 74), (цюл, 75), (соч, 89), (очк, 108)]</td>\n",
              "    </tr>\n",
              "    <tr>\n",
              "      <th>1</th>\n",
              "      <td>303</td>\n",
              "      <td>mix</td>\n",
              "      <td>[(че[, 12), (цнѣ, 14), (уцн, 16), (пуц, 20), (...</td>\n",
              "    </tr>\n",
              "    <tr>\n",
              "      <th>2</th>\n",
              "      <td>307</td>\n",
              "      <td>mix</td>\n",
              "      <td>[(ниц, 17), (чол, 50), (ици, 70), (чат, 133), ...</td>\n",
              "    </tr>\n",
              "    <tr>\n",
              "      <th>4</th>\n",
              "      <td>97</td>\n",
              "      <td>mix</td>\n",
              "      <td>[(ѣиц, 7), (чел, 17), (ица, 38)]</td>\n",
              "    </tr>\n",
              "  </tbody>\n",
              "</table>\n",
              "</div>"
            ],
            "text/plain": [
              "    id ch/ts                                  relevant_counters\n",
              "2  154   mix      [(чк, 74), (цюл, 75), (соч, 89), (очк, 108)]\n",
              "1  303   mix  [(че[, 12), (цнѣ, 14), (уцн, 16), (пуц, 20), (...\n",
              "2  307   mix  [(ниц, 17), (чол, 50), (ици, 70), (чат, 133), ...\n",
              "4   97   mix                   [(ѣиц, 7), (чел, 17), (ица, 38)]"
            ]
          },
          "metadata": {},
          "execution_count": 335
        }
      ]
    },
    {
      "cell_type": "code",
      "metadata": {
        "id": "-QqBV2uA_Ad_"
      },
      "source": [
        "G.add_nodes_from(graph_ts[\"id\"], color=\"blue\")\n",
        "G.add_nodes_from(graph_ch[\"id\"], color=\"orange\")\n",
        "G.add_nodes_from(graph_mixed[\"id\"], color=\"yellow\")"
      ],
      "execution_count": 336,
      "outputs": []
    },
    {
      "cell_type": "code",
      "metadata": {
        "id": "FZawVY5E5ToD"
      },
      "source": [
        "for i in list(zip(graph_ts[\"id\"], graph_ts[\"ch/ts\"], graph_ts[\"relevant_counters\"])):\n",
        "  for j in list(zip(graph_ch[\"id\"], graph_ch[\"ch/ts\"], graph_ch[\"relevant_counters\"])):\n",
        "    for k in i[2]:\n",
        "      for l in j[2]:\n",
        "        if (k[0].replace(\"ц\", \"ч\") == l[0]):\n",
        "          G.add_edge(i[0], j[0], color=\"red\") "
      ],
      "execution_count": 337,
      "outputs": []
    },
    {
      "cell_type": "code",
      "metadata": {
        "id": "YKApVFdd7YiN"
      },
      "source": [
        "for i in list(zip(graph_ts[\"id\"], graph_ts[\"ch/ts\"], graph_ts[\"relevant_counters\"])):\n",
        "  for j in list(zip(graph_mixed[\"id\"], graph_mixed[\"ch/ts\"], graph_mixed[\"relevant_counters\"])):\n",
        "    for k in i[2]:\n",
        "      for l in j[2]:\n",
        "        if (k[0] == l[0]):\n",
        "          G.add_edge(i[0], j[0], color=\"green\")\n",
        "        if (k[0].replace(\"ц\", \"ч\") == l[0]):\n",
        "          G.add_edge(i[0], j[0], color=\"red\") "
      ],
      "execution_count": 338,
      "outputs": []
    },
    {
      "cell_type": "code",
      "metadata": {
        "id": "1hFp-W-W7wb8"
      },
      "source": [
        "for i in list(zip(graph_ch[\"id\"], graph_ch[\"ch/ts\"], graph_ch[\"relevant_counters\"])):\n",
        "  for j in list(zip(graph_mixed[\"id\"], graph_mixed[\"ch/ts\"], graph_mixed[\"relevant_counters\"])):\n",
        "    for k in i[2]:\n",
        "      for l in j[2]:\n",
        "        if (k[0] == l[0]):\n",
        "          G.add_edge(i[0], j[0], color=\"green\")\n",
        "        if (k[0].replace(\"ч\", \"ц\") == l[0]):\n",
        "          G.add_edge(i[0], j[0], color=\"red\") "
      ],
      "execution_count": 339,
      "outputs": []
    },
    {
      "cell_type": "code",
      "metadata": {
        "colab": {
          "base_uri": "https://localhost:8080/",
          "height": 319
        },
        "id": "nlLjziCw5iQ-",
        "outputId": "4a6ef485-61c2-4904-8e3f-9307fb7f28be"
      },
      "source": [
        "edges,colors = zip(*nx.get_edge_attributes(G,'color').items())\n",
        "nodes,node_colors = zip(*nx.get_node_attributes(G,'color').items())\n",
        "nx.draw(G,edgelist=edges,nodelist=nodes,node_color=node_colors,edge_color=colors,width=2, with_labels=True, pos=nx.spring_layout(G, k = 0.9, seed=1590))"
      ],
      "execution_count": 340,
      "outputs": [
        {
          "output_type": "display_data",
          "data": {
            "image/png": "[encoded data removed]",
            "text/plain": [
              "<Figure size 432x288 with 1 Axes>"
            ]
          },
          "metadata": {}
        }
      ]
    },
    {
      "cell_type": "code",
      "metadata": {
        "id": "4RpMRxMh6i_n"
      },
      "source": [
        ""
      ],
      "execution_count": 340,
      "outputs": []
    }
  ]
}